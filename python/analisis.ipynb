{
 "cells": [
  {
   "cell_type": "code",
   "execution_count": 10,
   "metadata": {},
   "outputs": [
    {
     "data": {
      "text/html": [
       "<div>\n",
       "<style scoped>\n",
       "    .dataframe tbody tr th:only-of-type {\n",
       "        vertical-align: middle;\n",
       "    }\n",
       "\n",
       "    .dataframe tbody tr th {\n",
       "        vertical-align: top;\n",
       "    }\n",
       "\n",
       "    .dataframe thead th {\n",
       "        text-align: right;\n",
       "    }\n",
       "</style>\n",
       "<table border=\"1\" class=\"dataframe\">\n",
       "  <thead>\n",
       "    <tr style=\"text-align: right;\">\n",
       "      <th></th>\n",
       "      <th>index</th>\n",
       "      <th>edition</th>\n",
       "      <th>Mujeres</th>\n",
       "      <th>Hombres</th>\n",
       "      <th>año</th>\n",
       "      <th>participaciones_totales</th>\n",
       "    </tr>\n",
       "  </thead>\n",
       "  <tbody>\n",
       "    <tr>\n",
       "      <th>0</th>\n",
       "      <td>6</td>\n",
       "      <td>1968 Summer Olympics</td>\n",
       "      <td>125.0</td>\n",
       "      <td>387</td>\n",
       "      <td>1968</td>\n",
       "      <td>512.0</td>\n",
       "    </tr>\n",
       "    <tr>\n",
       "      <th>1</th>\n",
       "      <td>7</td>\n",
       "      <td>1972 Summer Olympics</td>\n",
       "      <td>72.0</td>\n",
       "      <td>220</td>\n",
       "      <td>1972</td>\n",
       "      <td>292.0</td>\n",
       "    </tr>\n",
       "    <tr>\n",
       "      <th>2</th>\n",
       "      <td>22</td>\n",
       "      <td>2020 Summer Olympics</td>\n",
       "      <td>85.0</td>\n",
       "      <td>109</td>\n",
       "      <td>2020</td>\n",
       "      <td>194.0</td>\n",
       "    </tr>\n",
       "    <tr>\n",
       "      <th>3</th>\n",
       "      <td>13</td>\n",
       "      <td>1992 Summer Olympics</td>\n",
       "      <td>43.0</td>\n",
       "      <td>129</td>\n",
       "      <td>1992</td>\n",
       "      <td>172.0</td>\n",
       "    </tr>\n",
       "    <tr>\n",
       "      <th>4</th>\n",
       "      <td>1</td>\n",
       "      <td>1948 Summer Olympics</td>\n",
       "      <td>9.0</td>\n",
       "      <td>161</td>\n",
       "      <td>1948</td>\n",
       "      <td>170.0</td>\n",
       "    </tr>\n",
       "    <tr>\n",
       "      <th>5</th>\n",
       "      <td>10</td>\n",
       "      <td>1984 Summer Olympics</td>\n",
       "      <td>42.0</td>\n",
       "      <td>116</td>\n",
       "      <td>1984</td>\n",
       "      <td>158.0</td>\n",
       "    </tr>\n",
       "    <tr>\n",
       "      <th>6</th>\n",
       "      <td>17</td>\n",
       "      <td>2004 Summer Olympics</td>\n",
       "      <td>72.0</td>\n",
       "      <td>78</td>\n",
       "      <td>2004</td>\n",
       "      <td>150.0</td>\n",
       "    </tr>\n",
       "    <tr>\n",
       "      <th>7</th>\n",
       "      <td>11</td>\n",
       "      <td>1988 Summer Olympics</td>\n",
       "      <td>31.0</td>\n",
       "      <td>119</td>\n",
       "      <td>1988</td>\n",
       "      <td>150.0</td>\n",
       "    </tr>\n",
       "    <tr>\n",
       "      <th>8</th>\n",
       "      <td>20</td>\n",
       "      <td>2016 Summer Olympics</td>\n",
       "      <td>56.0</td>\n",
       "      <td>86</td>\n",
       "      <td>2016</td>\n",
       "      <td>142.0</td>\n",
       "    </tr>\n",
       "    <tr>\n",
       "      <th>9</th>\n",
       "      <td>8</td>\n",
       "      <td>1976 Summer Olympics</td>\n",
       "      <td>15.0</td>\n",
       "      <td>125</td>\n",
       "      <td>1976</td>\n",
       "      <td>140.0</td>\n",
       "    </tr>\n",
       "    <tr>\n",
       "      <th>10</th>\n",
       "      <td>5</td>\n",
       "      <td>1964 Summer Olympics</td>\n",
       "      <td>6.0</td>\n",
       "      <td>127</td>\n",
       "      <td>1964</td>\n",
       "      <td>133.0</td>\n",
       "    </tr>\n",
       "    <tr>\n",
       "      <th>11</th>\n",
       "      <td>19</td>\n",
       "      <td>2012 Summer Olympics</td>\n",
       "      <td>45.0</td>\n",
       "      <td>80</td>\n",
       "      <td>2012</td>\n",
       "      <td>125.0</td>\n",
       "    </tr>\n",
       "    <tr>\n",
       "      <th>12</th>\n",
       "      <td>15</td>\n",
       "      <td>1996 Summer Olympics</td>\n",
       "      <td>31.0</td>\n",
       "      <td>92</td>\n",
       "      <td>1996</td>\n",
       "      <td>123.0</td>\n",
       "    </tr>\n",
       "    <tr>\n",
       "      <th>13</th>\n",
       "      <td>0</td>\n",
       "      <td>1932 Summer Olympics</td>\n",
       "      <td>2.0</td>\n",
       "      <td>113</td>\n",
       "      <td>1932</td>\n",
       "      <td>115.0</td>\n",
       "    </tr>\n",
       "    <tr>\n",
       "      <th>14</th>\n",
       "      <td>4</td>\n",
       "      <td>1960 Summer Olympics</td>\n",
       "      <td>14.0</td>\n",
       "      <td>101</td>\n",
       "      <td>1960</td>\n",
       "      <td>115.0</td>\n",
       "    </tr>\n",
       "    <tr>\n",
       "      <th>15</th>\n",
       "      <td>18</td>\n",
       "      <td>2008 Summer Olympics</td>\n",
       "      <td>54.0</td>\n",
       "      <td>54</td>\n",
       "      <td>2008</td>\n",
       "      <td>108.0</td>\n",
       "    </tr>\n",
       "    <tr>\n",
       "      <th>16</th>\n",
       "      <td>16</td>\n",
       "      <td>2000 Summer Olympics</td>\n",
       "      <td>35.0</td>\n",
       "      <td>66</td>\n",
       "      <td>2000</td>\n",
       "      <td>101.0</td>\n",
       "    </tr>\n",
       "    <tr>\n",
       "      <th>17</th>\n",
       "      <td>2</td>\n",
       "      <td>1952 Summer Olympics</td>\n",
       "      <td>3.0</td>\n",
       "      <td>93</td>\n",
       "      <td>1952</td>\n",
       "      <td>96.0</td>\n",
       "    </tr>\n",
       "    <tr>\n",
       "      <th>18</th>\n",
       "      <td>9</td>\n",
       "      <td>1980 Summer Olympics</td>\n",
       "      <td>26.0</td>\n",
       "      <td>50</td>\n",
       "      <td>1980</td>\n",
       "      <td>76.0</td>\n",
       "    </tr>\n",
       "    <tr>\n",
       "      <th>19</th>\n",
       "      <td>26</td>\n",
       "      <td>1928 Summer Olympics</td>\n",
       "      <td>0.0</td>\n",
       "      <td>69</td>\n",
       "      <td>1928</td>\n",
       "      <td>69.0</td>\n",
       "    </tr>\n",
       "    <tr>\n",
       "      <th>20</th>\n",
       "      <td>25</td>\n",
       "      <td>1924 Summer Olympics</td>\n",
       "      <td>0.0</td>\n",
       "      <td>61</td>\n",
       "      <td>1924</td>\n",
       "      <td>61.0</td>\n",
       "    </tr>\n",
       "    <tr>\n",
       "      <th>21</th>\n",
       "      <td>28</td>\n",
       "      <td>1936 Summer Olympics</td>\n",
       "      <td>0.0</td>\n",
       "      <td>37</td>\n",
       "      <td>1936</td>\n",
       "      <td>37.0</td>\n",
       "    </tr>\n",
       "    <tr>\n",
       "      <th>22</th>\n",
       "      <td>3</td>\n",
       "      <td>1956 Summer Olympics</td>\n",
       "      <td>3.0</td>\n",
       "      <td>33</td>\n",
       "      <td>1956</td>\n",
       "      <td>36.0</td>\n",
       "    </tr>\n",
       "    <tr>\n",
       "      <th>23</th>\n",
       "      <td>24</td>\n",
       "      <td>1900 Summer Olympics</td>\n",
       "      <td>0.0</td>\n",
       "      <td>4</td>\n",
       "      <td>1900</td>\n",
       "      <td>4.0</td>\n",
       "    </tr>\n",
       "  </tbody>\n",
       "</table>\n",
       "</div>"
      ],
      "text/plain": [
       "    index               edition  Mujeres  Hombres   año  \\\n",
       "0       6  1968 Summer Olympics    125.0      387  1968   \n",
       "1       7  1972 Summer Olympics     72.0      220  1972   \n",
       "2      22  2020 Summer Olympics     85.0      109  2020   \n",
       "3      13  1992 Summer Olympics     43.0      129  1992   \n",
       "4       1  1948 Summer Olympics      9.0      161  1948   \n",
       "5      10  1984 Summer Olympics     42.0      116  1984   \n",
       "6      17  2004 Summer Olympics     72.0       78  2004   \n",
       "7      11  1988 Summer Olympics     31.0      119  1988   \n",
       "8      20  2016 Summer Olympics     56.0       86  2016   \n",
       "9       8  1976 Summer Olympics     15.0      125  1976   \n",
       "10      5  1964 Summer Olympics      6.0      127  1964   \n",
       "11     19  2012 Summer Olympics     45.0       80  2012   \n",
       "12     15  1996 Summer Olympics     31.0       92  1996   \n",
       "13      0  1932 Summer Olympics      2.0      113  1932   \n",
       "14      4  1960 Summer Olympics     14.0      101  1960   \n",
       "15     18  2008 Summer Olympics     54.0       54  2008   \n",
       "16     16  2000 Summer Olympics     35.0       66  2000   \n",
       "17      2  1952 Summer Olympics      3.0       93  1952   \n",
       "18      9  1980 Summer Olympics     26.0       50  1980   \n",
       "19     26  1928 Summer Olympics      0.0       69  1928   \n",
       "20     25  1924 Summer Olympics      0.0       61  1924   \n",
       "21     28  1936 Summer Olympics      0.0       37  1936   \n",
       "22      3  1956 Summer Olympics      3.0       33  1956   \n",
       "23     24  1900 Summer Olympics      0.0        4  1900   \n",
       "\n",
       "    participaciones_totales  \n",
       "0                     512.0  \n",
       "1                     292.0  \n",
       "2                     194.0  \n",
       "3                     172.0  \n",
       "4                     170.0  \n",
       "5                     158.0  \n",
       "6                     150.0  \n",
       "7                     150.0  \n",
       "8                     142.0  \n",
       "9                     140.0  \n",
       "10                    133.0  \n",
       "11                    125.0  \n",
       "12                    123.0  \n",
       "13                    115.0  \n",
       "14                    115.0  \n",
       "15                    108.0  \n",
       "16                    101.0  \n",
       "17                     96.0  \n",
       "18                     76.0  \n",
       "19                     69.0  \n",
       "20                     61.0  \n",
       "21                     37.0  \n",
       "22                     36.0  \n",
       "23                      4.0  "
      ]
     },
     "execution_count": 10,
     "metadata": {},
     "output_type": "execute_result"
    }
   ],
   "source": [
    "import pandas as pd\n",
    "import numpy as np\n",
    "from functools import partial\n",
    "import mysql.connector\n",
    "import seaborn as sns\n",
    "import matplotlib.pyplot as plt\n",
    "import pandas as pd\n",
    "\n",
    "\n",
    "\n",
    "\n",
    "\n",
    "#Cargas de CSV\n",
    "dataframeAtletas = pd.read_csv(\"Olympic_Athlete.csv\")\n",
    "juegosOlimpicos = pd.read_csv(\"Olympic_Athlete_Event_Results.csv\")\n",
    "\n",
    "\n",
    "\n",
    "#Funcion para convertir a entero o que devuelva NA (1 para entero  2 para float)\n",
    "def convertirNumero(valor , numero:int):\n",
    "    try:\n",
    "        if numero ==1:\n",
    "            numero = int(valor)\n",
    "        elif numero == 2:\n",
    "            numero = float(valor)      \n",
    "        return numero    \n",
    "    except ValueError:\n",
    "        return pd.NA\n",
    "\n",
    "#Confuncion para devolver NA\n",
    "\n",
    "def convertirNA(valor):\n",
    "    if valor == \"na\":\n",
    "        return pd.NA\n",
    "    else:\n",
    "        return valor\n",
    "              \n",
    "\n",
    "\n",
    "#establecer  elsegundo  parametro \n",
    "convertirFloat = partial(convertirNumero, numero=2)\n",
    "\n",
    "#mapeo utiliza la funcion convertirFloat\n",
    "columna = list( map ( convertirFloat, dataframeAtletas[\"height\"] ))\n",
    "#mapeo utiliza la funcion convertirFloat\n",
    "columnaWeight = list( map ( convertirFloat, dataframeAtletas[\"weight\"] ))\n",
    "#mapeo para devolver NA \n",
    "columnaMedalla = list(map(convertirNA, juegosOlimpicos[\"medal\"]))\n",
    "\n",
    "#reemplazo de nuevas columnas\n",
    "juegosOlimpicos[\"medal\"] = columnaMedalla\n",
    "dataframeAtletas[\"height\"] = columna    \n",
    "dataframeAtletas[\"weight\"] = columnaWeight     \n",
    "\n",
    "#suma los datos con na \n",
    "dataframeAtletas.iloc[[0]]  # sacar x fila\n",
    "dataframeAtletas.iloc[1:10]  # sacar rangos de filas\n",
    "dataframeAtletas[\"height\"].mean()\n",
    "dataframeAtletas.shape\n",
    "juegosOlimpicos[\"medal\"].value_counts() #conteo de elemntos por distinción\n",
    "\n",
    "#eliminar columnas born, description,description\n",
    "columnasEliminarAtletas = [\"description\", \"special_notes\" ]\n",
    "dataframeAtletas = dataframeAtletas.drop(columnasEliminarAtletas, axis=1)\n",
    "\n",
    "\n",
    "columnasEliminarJuegos = [\"description\", \"special_notes\"]\n",
    "juegosOlimpicos = juegosOlimpicos.drop(\"isTeamSport\",axis=1)\n",
    "\n",
    "\n",
    "#left join  entre 2 tablas del evento olimpico y el atleta \"\n",
    "tablaJuegosOlimpicos = pd.merge(juegosOlimpicos, dataframeAtletas, on=\"athlete_id\", how=\"left\")\n",
    "tablaJuegosOlimpicos.groupby(\"edition\").count().sort_values(by=\"edition_id\", ascending=False)\n",
    "MXJuegoOlimpicos = tablaJuegosOlimpicos.loc[tablaJuegosOlimpicos[\"country_noc_x\"]== \"MEX\" ]\n",
    "#filtro x sexo\n",
    "MxMujeres = MXJuegoOlimpicos[MXJuegoOlimpicos['sex'] ==\"Female\"]\n",
    "MxHombres = MXJuegoOlimpicos[MXJuegoOlimpicos['sex'] ==\"Male\"]\n",
    "#agrupar por año\n",
    "grupoMujeres = MxMujeres.groupby(\"edition\")[\"sport\"].count()\n",
    "grupoHombres = MxHombres.groupby(\"edition\")[\"sport\"].count()\n",
    "\n",
    "#union de tablas outer\n",
    "participacionesXSexo = pd.merge(grupoMujeres, grupoHombres, on=\"edition\", how=\"outer\").reset_index()\n",
    "\n",
    "#renombrar columnas\n",
    "participacionesXSexo.rename(columns={\n",
    "    \"sport_x\":\"Mujeres\",\n",
    "    \"sport_y\":\"Hombres\"   \n",
    "}, inplace=True)\n",
    "\n",
    "#extraer palabra y crear columna de tipo entero\n",
    "participacionesXSexo[\"año\"]= participacionesXSexo[\"edition\"].str.split().str.get(0).astype(int)\n",
    "#rellenar los Na con 0\n",
    "participacionesXSexo.fillna(0, inplace=True)\n",
    "#suma de columnas\n",
    "participacionesXSexo[\"participaciones_totales\"] =  participacionesXSexo[\"Hombres\"] + participacionesXSexo[\"Mujeres\"]\n",
    "#pasar a enterno\n",
    "participacionesXSexo[\"participaciones_totales\"].astype(int)\n",
    "#ordenar por año\n",
    "participacionesXSexo.sort_values(by=\"año\",ascending=True)\n",
    "#Filtro solo los juegos de Verano\n",
    "participacionesXSexo = participacionesXSexo.loc[participacionesXSexo[\"edition\"].str.contains(\"Summer\")]\n",
    "participacionesXSexo.sort_values(by=\"participaciones_totales\",ascending=False).reset_index()\n"
   ]
  },
  {
   "cell_type": "code",
   "execution_count": 69,
   "metadata": {},
   "outputs": [
    {
     "data": {
      "text/html": [
       "<div>\n",
       "<style scoped>\n",
       "    .dataframe tbody tr th:only-of-type {\n",
       "        vertical-align: middle;\n",
       "    }\n",
       "\n",
       "    .dataframe tbody tr th {\n",
       "        vertical-align: top;\n",
       "    }\n",
       "\n",
       "    .dataframe thead th {\n",
       "        text-align: right;\n",
       "    }\n",
       "</style>\n",
       "<table border=\"1\" class=\"dataframe\">\n",
       "  <thead>\n",
       "    <tr style=\"text-align: right;\">\n",
       "      <th></th>\n",
       "      <th>edition</th>\n",
       "      <th>edition_id</th>\n",
       "      <th>country_noc_x</th>\n",
       "      <th>sport</th>\n",
       "      <th>event</th>\n",
       "      <th>result_id</th>\n",
       "      <th>athlete</th>\n",
       "      <th>athlete_id</th>\n",
       "      <th>pos</th>\n",
       "      <th>medal</th>\n",
       "      <th>name</th>\n",
       "      <th>sex</th>\n",
       "      <th>born</th>\n",
       "      <th>height</th>\n",
       "      <th>weight</th>\n",
       "      <th>country</th>\n",
       "      <th>country_noc_y</th>\n",
       "    </tr>\n",
       "  </thead>\n",
       "  <tbody>\n",
       "    <tr>\n",
       "      <th>123112</th>\n",
       "      <td>1900 Summer Olympics</td>\n",
       "      <td>2</td>\n",
       "      <td>MEX</td>\n",
       "      <td>Polo</td>\n",
       "      <td>Polo, Men</td>\n",
       "      <td>30900</td>\n",
       "      <td>Eustaquio Escandón</td>\n",
       "      <td>17811</td>\n",
       "      <td>=3</td>\n",
       "      <td>Bronze</td>\n",
       "      <td>Eustaquio Escandón</td>\n",
       "      <td>Male</td>\n",
       "      <td>1862-01-25</td>\n",
       "      <td>NaN</td>\n",
       "      <td>NaN</td>\n",
       "      <td>Mexico</td>\n",
       "      <td>MEX</td>\n",
       "    </tr>\n",
       "    <tr>\n",
       "      <th>123113</th>\n",
       "      <td>1900 Summer Olympics</td>\n",
       "      <td>2</td>\n",
       "      <td>MEX</td>\n",
       "      <td>Polo</td>\n",
       "      <td>Polo, Men</td>\n",
       "      <td>30900</td>\n",
       "      <td>Manuel Escandón</td>\n",
       "      <td>17810</td>\n",
       "      <td>=3</td>\n",
       "      <td>Bronze</td>\n",
       "      <td>Manuel Escandón</td>\n",
       "      <td>Male</td>\n",
       "      <td>1857-08-13</td>\n",
       "      <td>NaN</td>\n",
       "      <td>NaN</td>\n",
       "      <td>Mexico</td>\n",
       "      <td>MEX</td>\n",
       "    </tr>\n",
       "    <tr>\n",
       "      <th>123114</th>\n",
       "      <td>1900 Summer Olympics</td>\n",
       "      <td>2</td>\n",
       "      <td>MEX</td>\n",
       "      <td>Polo</td>\n",
       "      <td>Polo, Men</td>\n",
       "      <td>30900</td>\n",
       "      <td>Pablo Escandón</td>\n",
       "      <td>17812</td>\n",
       "      <td>=3</td>\n",
       "      <td>Bronze</td>\n",
       "      <td>Pablo Escandón</td>\n",
       "      <td>Male</td>\n",
       "      <td>1856-05-04</td>\n",
       "      <td>NaN</td>\n",
       "      <td>NaN</td>\n",
       "      <td>Mexico</td>\n",
       "      <td>MEX</td>\n",
       "    </tr>\n",
       "    <tr>\n",
       "      <th>123115</th>\n",
       "      <td>1900 Summer Olympics</td>\n",
       "      <td>2</td>\n",
       "      <td>MEX</td>\n",
       "      <td>Polo</td>\n",
       "      <td>Polo, Men</td>\n",
       "      <td>30900</td>\n",
       "      <td>William Wright</td>\n",
       "      <td>17818</td>\n",
       "      <td>=3</td>\n",
       "      <td>Bronze</td>\n",
       "      <td>William Wright</td>\n",
       "      <td>Male</td>\n",
       "      <td>na</td>\n",
       "      <td>NaN</td>\n",
       "      <td>NaN</td>\n",
       "      <td>United States</td>\n",
       "      <td>USA</td>\n",
       "    </tr>\n",
       "    <tr>\n",
       "      <th>123116</th>\n",
       "      <td>1924 Summer Olympics</td>\n",
       "      <td>8</td>\n",
       "      <td>MEX</td>\n",
       "      <td>Athletics</td>\n",
       "      <td>100 metres, Men</td>\n",
       "      <td>57285</td>\n",
       "      <td>Mariano Aguilar</td>\n",
       "      <td>73453</td>\n",
       "      <td>4 h1 r1/4</td>\n",
       "      <td>&lt;NA&gt;</td>\n",
       "      <td>Mariano Aguilar</td>\n",
       "      <td>Male</td>\n",
       "      <td>1903-10-23</td>\n",
       "      <td>NaN</td>\n",
       "      <td>NaN</td>\n",
       "      <td>Mexico</td>\n",
       "      <td>MEX</td>\n",
       "    </tr>\n",
       "    <tr>\n",
       "      <th>...</th>\n",
       "      <td>...</td>\n",
       "      <td>...</td>\n",
       "      <td>...</td>\n",
       "      <td>...</td>\n",
       "      <td>...</td>\n",
       "      <td>...</td>\n",
       "      <td>...</td>\n",
       "      <td>...</td>\n",
       "      <td>...</td>\n",
       "      <td>...</td>\n",
       "      <td>...</td>\n",
       "      <td>...</td>\n",
       "      <td>...</td>\n",
       "      <td>...</td>\n",
       "      <td>...</td>\n",
       "      <td>...</td>\n",
       "      <td>...</td>\n",
       "    </tr>\n",
       "    <tr>\n",
       "      <th>126468</th>\n",
       "      <td>2022 Winter Olympics</td>\n",
       "      <td>62</td>\n",
       "      <td>MEX</td>\n",
       "      <td>Alpine Skiing</td>\n",
       "      <td>Giant Slalom, Men</td>\n",
       "      <td>19019502</td>\n",
       "      <td>Rodolfo Dickson</td>\n",
       "      <td>137677</td>\n",
       "      <td>35</td>\n",
       "      <td>NaN</td>\n",
       "      <td>Rodolfo Dickson</td>\n",
       "      <td>Male</td>\n",
       "      <td>1997-07-11</td>\n",
       "      <td>170.0</td>\n",
       "      <td>67.0</td>\n",
       "      <td>Mexico</td>\n",
       "      <td>MEX</td>\n",
       "    </tr>\n",
       "    <tr>\n",
       "      <th>126469</th>\n",
       "      <td>2022 Winter Olympics</td>\n",
       "      <td>62</td>\n",
       "      <td>MEX</td>\n",
       "      <td>Alpine Skiing</td>\n",
       "      <td>Super G, Women</td>\n",
       "      <td>19019512</td>\n",
       "      <td>Sarah Schleper</td>\n",
       "      <td>99452</td>\n",
       "      <td>35</td>\n",
       "      <td>NaN</td>\n",
       "      <td>Sarah Schleper</td>\n",
       "      <td>Female</td>\n",
       "      <td>1979-02-19</td>\n",
       "      <td>162.0</td>\n",
       "      <td>61.0</td>\n",
       "      <td>Mexico  United States</td>\n",
       "      <td>MEX</td>\n",
       "    </tr>\n",
       "    <tr>\n",
       "      <th>126470</th>\n",
       "      <td>2022 Winter Olympics</td>\n",
       "      <td>62</td>\n",
       "      <td>MEX</td>\n",
       "      <td>Alpine Skiing</td>\n",
       "      <td>Giant Slalom, Women</td>\n",
       "      <td>19019513</td>\n",
       "      <td>Sarah Schleper</td>\n",
       "      <td>99452</td>\n",
       "      <td>37</td>\n",
       "      <td>NaN</td>\n",
       "      <td>Sarah Schleper</td>\n",
       "      <td>Female</td>\n",
       "      <td>1979-02-19</td>\n",
       "      <td>162.0</td>\n",
       "      <td>61.0</td>\n",
       "      <td>Mexico  United States</td>\n",
       "      <td>MEX</td>\n",
       "    </tr>\n",
       "    <tr>\n",
       "      <th>126471</th>\n",
       "      <td>2022 Winter Olympics</td>\n",
       "      <td>62</td>\n",
       "      <td>MEX</td>\n",
       "      <td>Cross Country Skiing</td>\n",
       "      <td>15 kilometres, Men</td>\n",
       "      <td>19019712</td>\n",
       "      <td>Jonathan Soto</td>\n",
       "      <td>148655</td>\n",
       "      <td>94</td>\n",
       "      <td>NaN</td>\n",
       "      <td>Jonathan Soto</td>\n",
       "      <td>Male</td>\n",
       "      <td>1993-05-01</td>\n",
       "      <td>&lt;NA&gt;</td>\n",
       "      <td>&lt;NA&gt;</td>\n",
       "      <td>Mexico</td>\n",
       "      <td>MEX</td>\n",
       "    </tr>\n",
       "    <tr>\n",
       "      <th>126472</th>\n",
       "      <td>2022 Winter Olympics</td>\n",
       "      <td>62</td>\n",
       "      <td>MEX</td>\n",
       "      <td>Figure Skating</td>\n",
       "      <td>Singles, Men</td>\n",
       "      <td>19020000</td>\n",
       "      <td>Donovan Carrillo</td>\n",
       "      <td>148656</td>\n",
       "      <td>22</td>\n",
       "      <td>NaN</td>\n",
       "      <td>Donovan Carrillo</td>\n",
       "      <td>Male</td>\n",
       "      <td>1999-11-17</td>\n",
       "      <td>&lt;NA&gt;</td>\n",
       "      <td>&lt;NA&gt;</td>\n",
       "      <td>Mexico</td>\n",
       "      <td>MEX</td>\n",
       "    </tr>\n",
       "  </tbody>\n",
       "</table>\n",
       "<p>3361 rows × 17 columns</p>\n",
       "</div>"
      ],
      "text/plain": [
       "                     edition  edition_id country_noc_x                 sport  \\\n",
       "123112  1900 Summer Olympics           2           MEX                  Polo   \n",
       "123113  1900 Summer Olympics           2           MEX                  Polo   \n",
       "123114  1900 Summer Olympics           2           MEX                  Polo   \n",
       "123115  1900 Summer Olympics           2           MEX                  Polo   \n",
       "123116  1924 Summer Olympics           8           MEX             Athletics   \n",
       "...                      ...         ...           ...                   ...   \n",
       "126468  2022 Winter Olympics          62           MEX         Alpine Skiing   \n",
       "126469  2022 Winter Olympics          62           MEX         Alpine Skiing   \n",
       "126470  2022 Winter Olympics          62           MEX         Alpine Skiing   \n",
       "126471  2022 Winter Olympics          62           MEX  Cross Country Skiing   \n",
       "126472  2022 Winter Olympics          62           MEX        Figure Skating   \n",
       "\n",
       "                      event  result_id             athlete  athlete_id  \\\n",
       "123112            Polo, Men      30900  Eustaquio Escandón       17811   \n",
       "123113            Polo, Men      30900     Manuel Escandón       17810   \n",
       "123114            Polo, Men      30900      Pablo Escandón       17812   \n",
       "123115            Polo, Men      30900      William Wright       17818   \n",
       "123116      100 metres, Men      57285     Mariano Aguilar       73453   \n",
       "...                     ...        ...                 ...         ...   \n",
       "126468    Giant Slalom, Men   19019502     Rodolfo Dickson      137677   \n",
       "126469       Super G, Women   19019512      Sarah Schleper       99452   \n",
       "126470  Giant Slalom, Women   19019513      Sarah Schleper       99452   \n",
       "126471   15 kilometres, Men   19019712       Jonathan Soto      148655   \n",
       "126472         Singles, Men   19020000    Donovan Carrillo      148656   \n",
       "\n",
       "              pos   medal                name     sex        born height  \\\n",
       "123112         =3  Bronze  Eustaquio Escandón    Male  1862-01-25    NaN   \n",
       "123113         =3  Bronze     Manuel Escandón    Male  1857-08-13    NaN   \n",
       "123114         =3  Bronze      Pablo Escandón    Male  1856-05-04    NaN   \n",
       "123115         =3  Bronze      William Wright    Male          na    NaN   \n",
       "123116  4 h1 r1/4    <NA>     Mariano Aguilar    Male  1903-10-23    NaN   \n",
       "...           ...     ...                 ...     ...         ...    ...   \n",
       "126468         35     NaN     Rodolfo Dickson    Male  1997-07-11  170.0   \n",
       "126469         35     NaN      Sarah Schleper  Female  1979-02-19  162.0   \n",
       "126470         37     NaN      Sarah Schleper  Female  1979-02-19  162.0   \n",
       "126471         94     NaN       Jonathan Soto    Male  1993-05-01   <NA>   \n",
       "126472         22     NaN    Donovan Carrillo    Male  1999-11-17   <NA>   \n",
       "\n",
       "       weight                 country country_noc_y  \n",
       "123112    NaN                  Mexico           MEX  \n",
       "123113    NaN                  Mexico           MEX  \n",
       "123114    NaN                  Mexico           MEX  \n",
       "123115    NaN           United States           USA  \n",
       "123116    NaN                  Mexico           MEX  \n",
       "...       ...                     ...           ...  \n",
       "126468   67.0                  Mexico           MEX  \n",
       "126469   61.0   Mexico  United States           MEX  \n",
       "126470   61.0   Mexico  United States           MEX  \n",
       "126471   <NA>                  Mexico           MEX  \n",
       "126472   <NA>                  Mexico           MEX  \n",
       "\n",
       "[3361 rows x 17 columns]"
      ]
     },
     "execution_count": 69,
     "metadata": {},
     "output_type": "execute_result"
    }
   ],
   "source": [
    "\n",
    "MXJuegoOlimpicos\n"
   ]
  },
  {
   "cell_type": "code",
   "execution_count": 70,
   "metadata": {},
   "outputs": [
    {
     "ename": "KeyError",
     "evalue": "'año'",
     "output_type": "error",
     "traceback": [
      "\u001b[1;31m---------------------------------------------------------------------------\u001b[0m",
      "\u001b[1;31mKeyError\u001b[0m                                  Traceback (most recent call last)",
      "File \u001b[1;32m~\\AppData\\Local\\Packages\\PythonSoftwareFoundation.Python.3.11_qbz5n2kfra8p0\\LocalCache\\local-packages\\Python311\\site-packages\\pandas\\core\\indexes\\base.py:3653\u001b[0m, in \u001b[0;36mIndex.get_loc\u001b[1;34m(self, key)\u001b[0m\n\u001b[0;32m   3652\u001b[0m \u001b[39mtry\u001b[39;00m:\n\u001b[1;32m-> 3653\u001b[0m     \u001b[39mreturn\u001b[39;00m \u001b[39mself\u001b[39;49m\u001b[39m.\u001b[39;49m_engine\u001b[39m.\u001b[39;49mget_loc(casted_key)\n\u001b[0;32m   3654\u001b[0m \u001b[39mexcept\u001b[39;00m \u001b[39mKeyError\u001b[39;00m \u001b[39mas\u001b[39;00m err:\n",
      "File \u001b[1;32m~\\AppData\\Local\\Packages\\PythonSoftwareFoundation.Python.3.11_qbz5n2kfra8p0\\LocalCache\\local-packages\\Python311\\site-packages\\pandas\\_libs\\index.pyx:147\u001b[0m, in \u001b[0;36mpandas._libs.index.IndexEngine.get_loc\u001b[1;34m()\u001b[0m\n",
      "File \u001b[1;32m~\\AppData\\Local\\Packages\\PythonSoftwareFoundation.Python.3.11_qbz5n2kfra8p0\\LocalCache\\local-packages\\Python311\\site-packages\\pandas\\_libs\\index.pyx:176\u001b[0m, in \u001b[0;36mpandas._libs.index.IndexEngine.get_loc\u001b[1;34m()\u001b[0m\n",
      "File \u001b[1;32mpandas\\_libs\\hashtable_class_helper.pxi:7080\u001b[0m, in \u001b[0;36mpandas._libs.hashtable.PyObjectHashTable.get_item\u001b[1;34m()\u001b[0m\n",
      "File \u001b[1;32mpandas\\_libs\\hashtable_class_helper.pxi:7088\u001b[0m, in \u001b[0;36mpandas._libs.hashtable.PyObjectHashTable.get_item\u001b[1;34m()\u001b[0m\n",
      "\u001b[1;31mKeyError\u001b[0m: 'año'",
      "\nThe above exception was the direct cause of the following exception:\n",
      "\u001b[1;31mKeyError\u001b[0m                                  Traceback (most recent call last)",
      "\u001b[1;32mc:\\Users\\TEST\\Documents\\GitHub\\analisis\\python\\analisis.ipynb Cell 3\u001b[0m line \u001b[0;36m5\n\u001b[0;32m      <a href='vscode-notebook-cell:/c%3A/Users/TEST/Documents/GitHub/analisis/python/analisis.ipynb#W2sZmlsZQ%3D%3D?line=2'>3</a>\u001b[0m resultados \u001b[39m=\u001b[39m pd\u001b[39m.\u001b[39mDataFrame(resultados[[\u001b[39m\"\u001b[39m\u001b[39mresult_id\u001b[39m\u001b[39m\"\u001b[39m, \u001b[39m\"\u001b[39m\u001b[39msport\u001b[39m\u001b[39m\"\u001b[39m,\u001b[39m\"\u001b[39m\u001b[39mevent_title\u001b[39m\u001b[39m\"\u001b[39m,\u001b[39m\"\u001b[39m\u001b[39mresult_description\u001b[39m\u001b[39m\"\u001b[39m]])\n\u001b[0;32m      <a href='vscode-notebook-cell:/c%3A/Users/TEST/Documents/GitHub/analisis/python/analisis.ipynb#W2sZmlsZQ%3D%3D?line=3'>4</a>\u001b[0m \u001b[39m#filtro que tengas medallas y año \u001b[39;00m\n\u001b[1;32m----> <a href='vscode-notebook-cell:/c%3A/Users/TEST/Documents/GitHub/analisis/python/analisis.ipynb#W2sZmlsZQ%3D%3D?line=4'>5</a>\u001b[0m MXJuegoOlimpicos2020 \u001b[39m=\u001b[39m MXJuegoOlimpicos[(\u001b[39m~\u001b[39mMXJuegoOlimpicos[\u001b[39m\"\u001b[39m\u001b[39mmedal\u001b[39m\u001b[39m\"\u001b[39m]\u001b[39m.\u001b[39misna()) \u001b[39m&\u001b[39m (MXJuegoOlimpicos[\u001b[39m\"\u001b[39;49m\u001b[39maño\u001b[39;49m\u001b[39m\"\u001b[39;49m]\u001b[39m==\u001b[39m\u001b[39m2016\u001b[39m) ]\u001b[39m.\u001b[39mreset_index()\n\u001b[0;32m      <a href='vscode-notebook-cell:/c%3A/Users/TEST/Documents/GitHub/analisis/python/analisis.ipynb#W2sZmlsZQ%3D%3D?line=5'>6</a>\u001b[0m \u001b[39m#\"agrupar por evento\"\u001b[39;00m\n\u001b[0;32m      <a href='vscode-notebook-cell:/c%3A/Users/TEST/Documents/GitHub/analisis/python/analisis.ipynb#W2sZmlsZQ%3D%3D?line=6'>7</a>\u001b[0m MXJuegoOlimpicos2020 \u001b[39m=\u001b[39mMXJuegoOlimpicos2020[[\u001b[39m\"\u001b[39m\u001b[39mresult_id\u001b[39m\u001b[39m\"\u001b[39m,\u001b[39m\"\u001b[39m\u001b[39mmedal\u001b[39m\u001b[39m\"\u001b[39m]]\u001b[39m.\u001b[39mgroupby([\u001b[39m\"\u001b[39m\u001b[39mresult_id\u001b[39m\u001b[39m\"\u001b[39m,\u001b[39m\"\u001b[39m\u001b[39mmedal\u001b[39m\u001b[39m\"\u001b[39m])\u001b[39m.\u001b[39mnunique()\n",
      "File \u001b[1;32m~\\AppData\\Local\\Packages\\PythonSoftwareFoundation.Python.3.11_qbz5n2kfra8p0\\LocalCache\\local-packages\\Python311\\site-packages\\pandas\\core\\frame.py:3761\u001b[0m, in \u001b[0;36mDataFrame.__getitem__\u001b[1;34m(self, key)\u001b[0m\n\u001b[0;32m   3759\u001b[0m \u001b[39mif\u001b[39;00m \u001b[39mself\u001b[39m\u001b[39m.\u001b[39mcolumns\u001b[39m.\u001b[39mnlevels \u001b[39m>\u001b[39m \u001b[39m1\u001b[39m:\n\u001b[0;32m   3760\u001b[0m     \u001b[39mreturn\u001b[39;00m \u001b[39mself\u001b[39m\u001b[39m.\u001b[39m_getitem_multilevel(key)\n\u001b[1;32m-> 3761\u001b[0m indexer \u001b[39m=\u001b[39m \u001b[39mself\u001b[39;49m\u001b[39m.\u001b[39;49mcolumns\u001b[39m.\u001b[39;49mget_loc(key)\n\u001b[0;32m   3762\u001b[0m \u001b[39mif\u001b[39;00m is_integer(indexer):\n\u001b[0;32m   3763\u001b[0m     indexer \u001b[39m=\u001b[39m [indexer]\n",
      "File \u001b[1;32m~\\AppData\\Local\\Packages\\PythonSoftwareFoundation.Python.3.11_qbz5n2kfra8p0\\LocalCache\\local-packages\\Python311\\site-packages\\pandas\\core\\indexes\\base.py:3655\u001b[0m, in \u001b[0;36mIndex.get_loc\u001b[1;34m(self, key)\u001b[0m\n\u001b[0;32m   3653\u001b[0m     \u001b[39mreturn\u001b[39;00m \u001b[39mself\u001b[39m\u001b[39m.\u001b[39m_engine\u001b[39m.\u001b[39mget_loc(casted_key)\n\u001b[0;32m   3654\u001b[0m \u001b[39mexcept\u001b[39;00m \u001b[39mKeyError\u001b[39;00m \u001b[39mas\u001b[39;00m err:\n\u001b[1;32m-> 3655\u001b[0m     \u001b[39mraise\u001b[39;00m \u001b[39mKeyError\u001b[39;00m(key) \u001b[39mfrom\u001b[39;00m \u001b[39merr\u001b[39;00m\n\u001b[0;32m   3656\u001b[0m \u001b[39mexcept\u001b[39;00m \u001b[39mTypeError\u001b[39;00m:\n\u001b[0;32m   3657\u001b[0m     \u001b[39m# If we have a listlike key, _check_indexing_error will raise\u001b[39;00m\n\u001b[0;32m   3658\u001b[0m     \u001b[39m#  InvalidIndexError. Otherwise we fall through and re-raise\u001b[39;00m\n\u001b[0;32m   3659\u001b[0m     \u001b[39m#  the TypeError.\u001b[39;00m\n\u001b[0;32m   3660\u001b[0m     \u001b[39mself\u001b[39m\u001b[39m.\u001b[39m_check_indexing_error(key)\n",
      "\u001b[1;31mKeyError\u001b[0m: 'año'"
     ]
    }
   ],
   "source": [
    "\n",
    "resultados = pd.read_csv(\"Olympic_Results.csv\")\n",
    "#seleccion de columans del archivo csv\n",
    "resultados = pd.DataFrame(resultados[[\"result_id\", \"sport\",\"event_title\",\"result_description\"]])\n",
    "#filtro que tengas medallas y año \n",
    "MXJuegoOlimpicos2020 = MXJuegoOlimpicos[(~MXJuegoOlimpicos[\"medal\"].isna()) & (MXJuegoOlimpicos[\"año\"]==2016) ].reset_index()\n",
    "#\"agrupar por evento\"\n",
    "MXJuegoOlimpicos2020 =MXJuegoOlimpicos2020[[\"result_id\",\"medal\"]].groupby([\"result_id\",\"medal\"]).nunique()\n",
    "#se genera el merge con la descripcion del evento\n",
    "medallasMx2020 = pd.merge(MXJuegoOlimpicos2020, resultados, on=\"result_id\",how =\"left\")\n",
    "MXJuegoOlimpicos\n"
   ]
  },
  {
   "cell_type": "code",
   "execution_count": null,
   "metadata": {},
   "outputs": [],
   "source": [
    "#agrupación\n",
    "medallasTotales = MedallasMexico[[\"año\",\"result_id\",\"medal\"]].groupby([\"año\",\"result_id\",\"medal\"]).sum().reset_index()\n",
    "#doy valor a la medalla para que me lo sume\"\n",
    "medallasTotales[\"cantidad\"] = 1 \n",
    "#filtar y ordenar\n",
    "filtro= medallasTotales[medallasTotales[\"año\"]==2016].sort_values(by = \"medal\")\n",
    "\n",
    "filtro.groupby(\"medal\").sum().reset_index().drop(columns=[\"año\"])\n",
    "\n"
   ]
  },
  {
   "cell_type": "code",
   "execution_count": null,
   "metadata": {},
   "outputs": [],
   "source": [
    "#mosrar el historico de medallas\n",
    "\n",
    "medalleroMX = MedallasMexico.groupby([\"año\",\"result_id\"]).count().reset_index()\n",
    "#doy parar a las medallas\n",
    "medalleroMX[\"cantidad\"]= 1\n",
    "medalleroMX =medalleroMX[[\"año\", \"cantidad\"]]\n",
    "medalleroMX.groupby(\"año\").sum()\n",
    "\n"
   ]
  },
  {
   "cell_type": "code",
   "execution_count": null,
   "metadata": {},
   "outputs": [],
   "source": [
    "#mostrar x año las copetencias que llegarona cuarto lugar\n",
    "\n",
    "\n",
    "#filtrar  por el posicion 4\n",
    "posicion4= MXJuegoOlimpicos[MXJuegoOlimpicos[\"pos\"]==\"4\"].reset_index()\n",
    "#seleccion de columnas\n",
    "deportesPosicion4= posicion4[[\"año\",\"result_id\"]]\n",
    "dfDesportesAgrupado = deportesPosicion4.groupby([\"año\", \"result_id\"]).nunique().reset_index()\n",
    "\n",
    "dfDesportesAgrupado.groupby(\"año\").count()\n"
   ]
  },
  {
   "cell_type": "code",
   "execution_count": null,
   "metadata": {},
   "outputs": [],
   "source": [
    "\n",
    "#posicion 5\n",
    "posicion5= MXJuegoOlimpicos[MXJuegoOlimpicos[\"pos\"]==\"5\"].reset_index()\n",
    "deportesPosicion5= posicion5[[\"sport\",\"result_id\"]]\n",
    "deportesPosicion5.groupby(\"sport\").nunique().sort_values(by=\"result_id\",ascending=False).reset_index()"
   ]
  },
  {
   "cell_type": "code",
   "execution_count": null,
   "metadata": {},
   "outputs": [],
   "source": [
    "#posicion 4\"\n",
    "deportesPosicion4= posicion4[[\"sport\",\"result_id\"]]\n",
    "\n",
    "\n",
    "datosInsertar = deportesPosicion4.groupby(\"sport\").nunique().sort_values(by=\"result_id\",ascending=False).reset_index()\n",
    "\n",
    "\n",
    "datosInsertar"
   ]
  },
  {
   "cell_type": "code",
   "execution_count": null,
   "metadata": {},
   "outputs": [],
   "source": [
    "#pandas cut\n",
    "\n",
    "MXJuegoOlimpicosNA = MXJuegoOlimpicos.dropna(subset=[\"height\"])\n",
    "df =pd.cut(MXJuegoOlimpicosNA[\"height\"], 10\n",
    "       ).reset_index()\n",
    "\n",
    "df.groupby(\"height\").count().reset_index()\n",
    "\n"
   ]
  },
  {
   "cell_type": "code",
   "execution_count": null,
   "metadata": {},
   "outputs": [],
   "source": [
    "\n",
    "sns.distplot(MXJuegoOlimpicosNA[\"height\"], hist=False, norm_hist=True, bins=10) #bins numeros de columnas   hits la linea de densisdad true con barras\n"
   ]
  },
  {
   "cell_type": "code",
   "execution_count": null,
   "metadata": {},
   "outputs": [],
   "source": [
    "# cola   es la parte final , si la cola de la izq es negativoa\n",
    "#curtosis es que tan achatada , si es possiitiva es escarpada\n",
    "\n",
    "\n",
    "from scipy.stats import skew, kurtosis\n",
    "\n",
    "\n",
    "\n",
    "\n"
   ]
  },
  {
   "cell_type": "code",
   "execution_count": null,
   "metadata": {},
   "outputs": [],
   "source": [
    "\n",
    "\n",
    "ax = sns.distplot(MXJuegoOlimpicosNA[\"height\"], kde=False, norm_hist=True, bins=10)\n",
    "ax.set(title='Alturas de atletas que participaron en los Juegos Olímpicos MX', xlabel='Alturas', ylabel='Porcentaje')\n",
    "\n"
   ]
  },
  {
   "cell_type": "code",
   "execution_count": null,
   "metadata": {},
   "outputs": [],
   "source": [
    "\n",
    "by_athlete = MXJuegoOlimpicosNA.groupby(level=0)[['height', 'weight']].mean()\n",
    "\n",
    "sex = MXJuegoOlimpicosNA.groupby(level=0)['sex'].last()\n",
    "\n",
    "merged = by_athlete.merge(sex, left_index=True, right_index=True)\n",
    "\n",
    "males = by_athlete[merged['sex'] == 'Male']\n",
    "females = by_athlete[merged['sex'] == 'Female']\n",
    "\n",
    "\n",
    "\n",
    "ax = sns.distplot(males['height'], hist=False, kde_kws = {'shade': True}, label='hombres')\n",
    "sns.distplot(females['height'], hist=False, kde_kws = {'shade': True}, ax=ax, label='mujeres')\n",
    "ax.set_title('Distribuciones de alturas de atletas masculinos y femeninos', fontsize=13, pad=15);#titulo\n",
    "ax.set(xlabel='altura');#nombrar leyenda x\n",
    "ax.legend(loc='upper left'); #posicion del recuadro\n",
    "\n"
   ]
  },
  {
   "cell_type": "code",
   "execution_count": null,
   "metadata": {},
   "outputs": [],
   "source": [
    "\n",
    "\n",
    "fig = plt.figure(figsize=(10, 10))\n",
    "ax = sns.distplot(MXJuegoOlimpicosNA['height'], kde=False, norm_hist=False)\n",
    "ax.set_title('Edades de atletas que participaron en los Juegos Olímpicos', fontsize=20, pad=15)\n",
    "ax.set(xlabel='edad', ylabel='conteo');\n",
    "\n"
   ]
  },
  {
   "cell_type": "code",
   "execution_count": null,
   "metadata": {},
   "outputs": [],
   "source": [
    "\n",
    "\n",
    "MXJuegoOlimpicos['medal'].unique()\n",
    "\n",
    "porSexo = MXJuegoOlimpicos['medal'].value_counts()\n",
    "\n",
    "porcentaje = porSexo * 100 / porSexo.sum()  # por porcentaje\n",
    "\n",
    "df =  pd.DataFrame( porcentaje).reset_index()\n",
    "ax = sns.barplot(x=df[\"count\"], y=df[\"medal\"], orient='h') #clasificacion\n",
    "ax.set_title('Conteo de Ratings de restaurantes(como porcentajes)')\n",
    "ax.set(ylabel='porcentaje del total');\n"
   ]
  },
  {
   "cell_type": "code",
   "execution_count": null,
   "metadata": {},
   "outputs": [],
   "source": [
    "#filas  y columnas\n",
    "pd.crosstab([MXJuegoOlimpicosNA['sex'],MXJuegoOlimpicosNA['sport']], [MXJuegoOlimpicosNA['medal']], margins=True, margins_name='TOTALES').sort_values(by=[\"Gold\",\"Silver\", \"Bronze\"], ascending=False) # tabla con conteo\n",
    "\n"
   ]
  },
  {
   "cell_type": "code",
   "execution_count": null,
   "metadata": {},
   "outputs": [],
   "source": [
    "crostab= pd.crosstab([MXJuegoOlimpicosNA['sex'],MXJuegoOlimpicosNA['sport']], [MXJuegoOlimpicosNA['medal']], margins=True, margins_name='TOTALES').sort_values(by=[\"Gold\",\"Silver\", \"Bronze\"], ascending=False) # tabla con conteo\n",
    "\n",
    "crostab.loc[:,0]\n",
    "\n",
    "\n"
   ]
  },
  {
   "cell_type": "markdown",
   "metadata": {},
   "source": [
    "pd.crosstab(MXJuegoOlimpicosNA['sport'], [MXJuegoOlimpicosNA['medal'], MXJuegoOlimpicosNA['sex']], margins=True, margins_name='TOTALES')\n"
   ]
  },
  {
   "cell_type": "code",
   "execution_count": null,
   "metadata": {},
   "outputs": [],
   "source": [
    "cross = pd.crosstab(MXJuegoOlimpicosNA['sex'],MXJuegoOlimpicosNA['medal'])\n",
    "\n",
    "fig, axes = plt.subplots(2, 2, figsize=(10, 8), sharex=True, sharey=True)\n",
    "\n",
    "\n",
    "sns.barplot(x=cross.columns, y=cross.iloc[0], ax=axes[1,0])\n",
    "sns.barplot(x=cross.columns, y=cross.iloc[1], ax=axes[0,0])\n",
    "\n",
    "\n",
    "cross"
   ]
  },
  {
   "cell_type": "code",
   "execution_count": null,
   "metadata": {},
   "outputs": [],
   "source": [
    "mujeres = tablaJuegosOlimpicos[ tablaJuegosOlimpicos[\"sex\"] == \"Female\"]\n",
    "hombres = tablaJuegosOlimpicos[ tablaJuegosOlimpicos[\"sex\"] == \"Male\"]\n",
    "\n",
    "alturasM = mujeres[\"height\"].dropna()\n",
    "alturasH = hombres[\"height\"].dropna()\n",
    "square = dict(markerfacecolor = \"g\", marker=\"s\") #s = square\n",
    "#sns.boxplot(x=alturasM)\n",
    "\n",
    "fig1 , ax1 = plt.subplots()\n",
    "\n",
    "ax1.set_title(\"caja\")\n",
    "ax1.boxplot(x=alturasM, notch=True, flierprops=square, vert=False)\n",
    "\n",
    "\n"
   ]
  },
  {
   "cell_type": "code",
   "execution_count": null,
   "metadata": {},
   "outputs": [],
   "source": [
    "fig3, ax3 = plt.subplots()\n",
    "alturasM\n",
    "alturasH\n",
    "ax3.set_title(\"hombres y mujeres\")\n",
    "alturasGeneral =[alturasH, alturasM]\n",
    "ax3.boxplot(alturasGeneral)\n"
   ]
  },
  {
   "cell_type": "code",
   "execution_count": null,
   "metadata": {},
   "outputs": [],
   "source": [
    "\n",
    "data = pd.DataFrame({\n",
    "    'Hombres': alturasH,\n",
    "    'Mujeres': alturasM\n",
    "})\n",
    "\n",
    "plt.xlabel(\"Conjunto de Datos\")\n",
    "plt.ylabel(\"Alturas\")\n",
    "sns.boxplot(data=data)\n",
    "\n",
    "\n",
    "\n"
   ]
  },
  {
   "cell_type": "code",
   "execution_count": null,
   "metadata": {},
   "outputs": [],
   "source": [
    "alturasM.quantile(.75) - alturasM.quantile(.25)"
   ]
  },
  {
   "cell_type": "code",
   "execution_count": null,
   "metadata": {},
   "outputs": [],
   "source": [
    "tablaJuegosOlimpicos.groupby(\"sex\")[[\"country\"]].count() #mostrar una sola columna\n",
    "\n",
    "\n",
    "\n"
   ]
  },
  {
   "cell_type": "markdown",
   "metadata": {},
   "source": []
  },
  {
   "cell_type": "code",
   "execution_count": null,
   "metadata": {},
   "outputs": [],
   "source": [
    "\n",
    "tablaJuegosOlimpicos.groupby([\"sex\", \"medal\"])[[\"country\"]].aggregate(\"count\").unstack() # unstack ayuda a distribuir mejor cuando se agrupa varias columnas\n",
    "\n",
    "tablaJuegosOlimpicos.groupby([\"sex\"]).aggregate(\"count\")"
   ]
  },
  {
   "cell_type": "code",
   "execution_count": null,
   "metadata": {},
   "outputs": [],
   "source": [
    "\n",
    "\n",
    "rangos = pd.cut(alturasM, bins=[100,150,200,250]) #catalogar los valors de 100 a 150 de 150 a 200 etc\n",
    "mujeres.pivot_table(\"height\", index=[\"country_noc_x\", rangos], columns=\"medal\").unstack().reset_index()\n",
    "\n"
   ]
  },
  {
   "cell_type": "markdown",
   "metadata": {},
   "source": [
    "#GRAFICAS EN PYTHON DESDE UDEMY\n"
   ]
  },
  {
   "cell_type": "code",
   "execution_count": null,
   "metadata": {},
   "outputs": [],
   "source": [
    "x = (3,23,4,9,8,7,4,2,3,4,0,9,4,1,2,5,3,2,4,5)\n",
    "\n",
    "\n",
    "\n",
    "\"\"\"\n",
    "conteo de cada elemento\n",
    "\"\"\"\n",
    "def conteo(seq):\n",
    "    hist = {}\n",
    "    for i in seq:\n",
    "        hist[i] = hist.get(i,0)+1\n",
    "\n",
    "    return hist\n",
    "    \n",
    "\n",
    "conteo(x)\n",
    "\n",
    "\n"
   ]
  },
  {
   "cell_type": "markdown",
   "metadata": {},
   "source": [
    "MXJuegoOlimpicosNA"
   ]
  },
  {
   "cell_type": "code",
   "execution_count": 13,
   "metadata": {},
   "outputs": [
    {
     "data": {
      "text/plain": [
       "Text(0.5, 1.0, 'alturas de las feminas')"
      ]
     },
     "execution_count": 13,
     "metadata": {},
     "output_type": "execute_result"
    },
    {
     "data": {
      "image/png": "[encoded data removed]",
      "text/plain": [
       "<Figure size 640x480 with 1 Axes>"
      ]
     },
     "metadata": {},
     "output_type": "display_data"
    }
   ],
   "source": [
    "\n",
    "tablaJuegosOlimpicos = tablaJuegosOlimpicos.dropna()\n",
    "tablaJuegosOlimpicosF= tablaJuegosOlimpicos[tablaJuegosOlimpicos[\"sex\"] ==\"Female\"]\n",
    "\n",
    "plt.hist( tablaJuegosOlimpicosF[\"height\"], bins =10, color=\"#05ad99\", rwidth=0.9)\n",
    "plt.grid(axis=\"y\", alpha=.4)\n",
    "plt.grid(axis=\"x\", alpha=.4)\n",
    "plt.xlabel(\"leyenda de la x\")\n",
    "plt.ylabel(\"leyenda de la y\")\n",
    "plt.legend(\"alturas\")\n",
    "plt.title(\"alturas de las feminas\")\n"
   ]
  },
  {
   "cell_type": "code",
   "execution_count": 14,
   "metadata": {},
   "outputs": [
    {
     "data": {
      "text/plain": [
       "<Axes: title={'center': 'Estaturas x Sexo'}, ylabel='Density'>"
      ]
     },
     "execution_count": 14,
     "metadata": {},
     "output_type": "execute_result"
    },
    {
     "data": {
      "image/png": "[encoded data removed]",
      "text/plain": [
       "<Figure size 640x480 with 1 Axes>"
      ]
     },
     "metadata": {},
     "output_type": "display_data"
    }
   ],
   "source": [
    "dataframeAtletas = dataframeAtletas.dropna()\n",
    "dataframeAtletasF = dataframeAtletas[dataframeAtletas[\"sex\"] == \"Female\"]\n",
    "dataframeAtletasH= dataframeAtletas[dataframeAtletas[\"sex\"] == \"Male\"]\n",
    "\n",
    "dfSexo  = pd.DataFrame( {\n",
    "    \"mujeres\": dataframeAtletasF[\"height\"],\n",
    "    \"hombres\": dataframeAtletasH[\"height\"]\n",
    "\n",
    "})\n",
    "\n",
    "dfSexo.agg([\"min\", \"max\", \"mean\", \"median\"])\n",
    "\n",
    "fig0, ax0 = plt.subplots()\n",
    "\n",
    "\n",
    "dfSexo.plot.kde(ax= ax0 , title=\"Estaturas x Sexo\")\n"
   ]
  },
  {
   "cell_type": "code",
   "execution_count": 15,
   "metadata": {},
   "outputs": [
    {
     "data": {
      "text/plain": [
       "Text(0, 100, 'rexto de prueba ')"
      ]
     },
     "execution_count": 15,
     "metadata": {},
     "output_type": "execute_result"
    },
    {
     "data": {
      "image/png": "[encoded data removed]",
      "text/plain": [
       "<Figure size 640x480 with 1 Axes>"
      ]
     },
     "metadata": {},
     "output_type": "display_data"
    }
   ],
   "source": [
    "dataframeAtletasF\n",
    "\n",
    "plt.hist( tablaJuegosOlimpicosF[\"height\"], bins =10, color=\"#05ad99\", rwidth=0.9)\n",
    "plt.xlabel(\"x etiqueta\")\n",
    "plt.text(0,100, \"rexto de prueba \")\n",
    "\n"
   ]
  },
  {
   "cell_type": "code",
   "execution_count": 16,
   "metadata": {},
   "outputs": [
    {
     "data": {
      "text/plain": [
       "<Axes: ylabel='Density'>"
      ]
     },
     "execution_count": 16,
     "metadata": {},
     "output_type": "execute_result"
    },
    {
     "data": {
      "image/png": "[encoded data removed]",
      "text/plain": [
       "<Figure size 640x480 with 1 Axes>"
      ]
     },
     "metadata": {},
     "output_type": "display_data"
    }
   ],
   "source": [
    "\n",
    "mu = dataframeAtletasF[\"height\"].mean()\n",
    "sd = dataframeAtletasF[\"height\"].std()\n",
    "\n",
    "dfSexo.agg([\"min\", \"max\", \"mean\", \"median\",\"std\"]).round(decimals=1)\n",
    "\n",
    "\n",
    "figura, axx = plt.subplots()\n",
    "dfSexo[[\"mujeres\",\"hombres\"]].plot.kde(ax = axx)\n",
    "\n",
    "\n",
    "\n"
   ]
  },
  {
   "cell_type": "code",
   "execution_count": 17,
   "metadata": {},
   "outputs": [
    {
     "data": {
      "image/png": "[encoded data removed]",
      "text/plain": [
       "<Figure size 640x480 with 1 Axes>"
      ]
     },
     "metadata": {},
     "output_type": "display_data"
    }
   ],
   "source": [
    "\n",
    "sns.histplot(dfSexo, kde=True)\n",
    "sns.set_style(\"darkgrid\")"
   ]
  },
  {
   "cell_type": "code",
   "execution_count": 21,
   "metadata": {},
   "outputs": [
    {
     "data": {
      "text/plain": [
       "weight\n",
       "delgada           12396\n",
       "regular-1         10384\n",
       "muy delgado        3948\n",
       "regular-2          3607\n",
       "corpulenta          716\n",
       "muy corpulenta      214\n",
       "muy pesada          144\n",
       "Name: count, dtype: int64"
      ]
     },
     "execution_count": 21,
     "metadata": {},
     "output_type": "execute_result"
    }
   ],
   "source": [
    "pesos =dataframeAtletasF[\"weight\"].dropna()\n",
    "cortes = (0,50,60,70,80,90,100,np.inf)\n",
    "etiquetas = (\"muy delgado\",\"delgada\",\"regular-1\",\"regular-2\",\"corpulenta\",\"muy corpulenta\",\"muy pesada\")\n",
    "\n",
    "groups =pd.cut(pesos,bins = cortes, labels=etiquetas)\n",
    "groups.value_counts()\n"
   ]
  },
  {
   "cell_type": "code",
   "execution_count": 20,
   "metadata": {},
   "outputs": [
    {
     "ename": "NameError",
     "evalue": "name 'altura' is not defined",
     "output_type": "error",
     "traceback": [
      "\u001b[1;31m---------------------------------------------------------------------------\u001b[0m",
      "\u001b[1;31mNameError\u001b[0m                                 Traceback (most recent call last)",
      "\u001b[1;32mc:\\Users\\TEST\\Documents\\GitHub\\analisis\\python\\analisis.ipynb Cell 37\u001b[0m line \u001b[0;36m5\n\u001b[0;32m      <a href='vscode-notebook-cell:/c%3A/Users/TEST/Documents/GitHub/analisis/python/analisis.ipynb#X51sZmlsZQ%3D%3D?line=1'>2</a>\u001b[0m means \u001b[39m=\u001b[39m []\n\u001b[0;32m      <a href='vscode-notebook-cell:/c%3A/Users/TEST/Documents/GitHub/analisis/python/analisis.ipynb#X51sZmlsZQ%3D%3D?line=3'>4</a>\u001b[0m \u001b[39mfor\u001b[39;00m i \u001b[39min\u001b[39;00m \u001b[39mrange\u001b[39m(\u001b[39m10000\u001b[39m):\n\u001b[1;32m----> <a href='vscode-notebook-cell:/c%3A/Users/TEST/Documents/GitHub/analisis/python/analisis.ipynb#X51sZmlsZQ%3D%3D?line=4'>5</a>\u001b[0m     sample \u001b[39m=\u001b[39m altura\u001b[39m.\u001b[39msample(n\u001b[39m=\u001b[39m\u001b[39m50\u001b[39m, replace\u001b[39m=\u001b[39m\u001b[39mTrue\u001b[39;00m) \u001b[39m#muesta de 50 elementos\u001b[39;00m\n\u001b[0;32m      <a href='vscode-notebook-cell:/c%3A/Users/TEST/Documents/GitHub/analisis/python/analisis.ipynb#X51sZmlsZQ%3D%3D?line=5'>6</a>\u001b[0m     means\u001b[39m.\u001b[39mappend(sample\u001b[39m.\u001b[39mmean())\n\u001b[0;32m      <a href='vscode-notebook-cell:/c%3A/Users/TEST/Documents/GitHub/analisis/python/analisis.ipynb#X51sZmlsZQ%3D%3D?line=7'>8</a>\u001b[0m serie_means \u001b[39m=\u001b[39m pd\u001b[39m.\u001b[39mSeries(means)\n",
      "\u001b[1;31mNameError\u001b[0m: name 'altura' is not defined"
     ]
    }
   ],
   "source": [
    "#MUESTREO\n",
    "means = []\n",
    "\n",
    "for i in range(10000):\n",
    "    sample = altura.sample(n=50, replace=True) #muesta de 50 elementos\n",
    "    means.append(sample.mean())\n",
    "    \n",
    "serie_means = pd.Series(means)\n",
    "\n",
    "sns.distplot(serie_means, kde=False, norm_hist=True, bins=20) \n",
    "\n"
   ]
  },
  {
   "cell_type": "code",
   "execution_count": 22,
   "metadata": {},
   "outputs": [
    {
     "name": "stderr",
     "output_type": "stream",
     "text": [
      "C:\\Users\\TEST\\AppData\\Local\\Temp\\ipykernel_16136\\132311874.py:8: UserWarning:\n",
      "\n",
      "\n",
      "\n",
      "`distplot` is a deprecated function and will be removed in seaborn v0.14.0.\n",
      "\n",
      "Please adapt your code to use either `displot` (a figure-level function with\n",
      "similar flexibility) or `histplot` (an axes-level function for histograms).\n",
      "\n",
      "For a guide to updating your code to use the new functions, please see\n",
      "https://gist.github.com/mwaskom/de44147ed2974457ad6372750bbe5751\n",
      "\n",
      "\n"
     ]
    },
    {
     "data": {
      "text/plain": [
       "<matplotlib.lines.Line2D at 0x28b8b75ced0>"
      ]
     },
     "execution_count": 22,
     "metadata": {},
     "output_type": "execute_result"
    },
    {
     "data": {
      "image/png": "[encoded data removed]",
      "text/plain": [
       "<Figure size 640x480 with 1 Axes>"
      ]
     },
     "metadata": {},
     "output_type": "display_data"
    }
   ],
   "source": [
    "#INTERVALO DE CONFIANZA\n",
    "\n",
    "\n",
    "limite_inferior = pesos.quantile(0.025)\n",
    "limite_superior = pesos.quantile(0.975)\n",
    "\n",
    "\n",
    "sns.distplot(pesos, kde=False, norm_hist=False)\n",
    "plt.axvline(limite_inferior)\n",
    "plt.axvline(limite_superior)\n",
    "\n",
    "\n",
    "\n"
   ]
  },
  {
   "cell_type": "markdown",
   "metadata": {},
   "source": []
  },
  {
   "cell_type": "code",
   "execution_count": 23,
   "metadata": {},
   "outputs": [
    {
     "data": {
      "text/plain": [
       "<Axes: >"
      ]
     },
     "execution_count": 23,
     "metadata": {},
     "output_type": "execute_result"
    },
    {
     "data": {
      "image/png": "[encoded data removed]",
      "text/plain": [
       "<Figure size 1000x800 with 2 Axes>"
      ]
     },
     "metadata": {},
     "output_type": "display_data"
    }
   ],
   "source": [
    "\n",
    "dfPesoAltura = dataframeAtletasF[[\"height\",\"weight\"]]\n",
    "\n",
    "dfPesoAltura = dfPesoAltura.dropna()\n",
    "\n",
    "plt.figure(figsize=(10, 8))\n",
    "sns.heatmap(dfPesoAltura.corr(), annot=True)\n",
    "\n"
   ]
  },
  {
   "cell_type": "code",
   "execution_count": 24,
   "metadata": {},
   "outputs": [
    {
     "data": {
      "text/plain": [
       "1.0"
      ]
     },
     "execution_count": 24,
     "metadata": {},
     "output_type": "execute_result"
    }
   ],
   "source": [
    "from sklearn.model_selection import train_test_split\n",
    "from sklearn.linear_model import LinearRegression\n",
    "\n",
    "x = dfPesoAltura[[\"height\", \"weight\"]]\n",
    "y = dfPesoAltura[\"weight\"]\n",
    "\n",
    "X_training, X_test, y_training, y_test = train_test_split(x, y, test_size=0.3, shuffle=True)\n",
    "\n",
    "\n",
    "lr = LinearRegression()\n",
    "lr.fit(X_training, y_training)\n",
    "\n",
    "lr.score(X_test, y_test) #precision de los datos para predecir\n",
    "\n"
   ]
  },
  {
   "cell_type": "code",
   "execution_count": 25,
   "metadata": {},
   "outputs": [
    {
     "data": {
      "text/plain": [
       "{'fit_time': array([0.01562166, 0.02408814, 0.01294494, 0.01251364, 0.01566792,\n",
       "        0.01813555, 0.00845289, 0.00972414, 0.        , 0.        ]),\n",
       " 'score_time': array([0.        , 0.00295472, 0.        , 0.        , 0.        ,\n",
       "        0.00196385, 0.0049777 , 0.00471234, 0.        , 0.        ]),\n",
       " 'test_score': array([1., 1., 1., 1., 1., 1., 1., 1., 1., 1.])}"
      ]
     },
     "execution_count": 25,
     "metadata": {},
     "output_type": "execute_result"
    }
   ],
   "source": [
    "#Entrenamiendo cruzado\n",
    "from sklearn.model_selection import cross_validate\n",
    "from sklearn.metrics import mean_squared_error, r2_score\n",
    "\n",
    "\n",
    "scores = cross_validate(lr, x, y, scoring='r2', cv= 10)\n",
    "scores # tiempos, tiempos,  resultados\n",
    "\n",
    "\n",
    "\n",
    "\n",
    "\n"
   ]
  },
  {
   "cell_type": "code",
   "execution_count": 26,
   "metadata": {},
   "outputs": [
    {
     "data": {
      "text/plain": [
       "[]"
      ]
     },
     "execution_count": 26,
     "metadata": {},
     "output_type": "execute_result"
    },
    {
     "data": {
      "image/png": "[encoded data removed]",
      "text/plain": [
       "<Figure size 640x480 with 1 Axes>"
      ]
     },
     "metadata": {},
     "output_type": "display_data"
    }
   ],
   "source": [
    "from sklearn import datasets, linear_model\n",
    "\n",
    "modelo = linear_model.LinearRegression()\n",
    "\n",
    "\n",
    "x = dfPesoAltura[[\"height\"]]\n",
    "y = dfPesoAltura[\"weight\"]\n",
    "\n",
    "modelo.fit(x,y)\n",
    "\n",
    "modelo.coef_\n",
    "\n",
    "plt.scatter(x,y,color=\"blue\")\n",
    "plt.plot()\n",
    "\n",
    "\n",
    "\n"
   ]
  },
  {
   "cell_type": "code",
   "execution_count": null,
   "metadata": {},
   "outputs": [],
   "source": []
  },
  {
   "cell_type": "code",
   "execution_count": 27,
   "metadata": {},
   "outputs": [
    {
     "data": {
      "application/vnd.plotly.v1+json": {
       "config": {
        "plotlyServerURL": "https://plot.ly"
       },
       "data": [
        {
         "branchvalues": "total",
         "domain": {
          "x": [
           0,
           1
          ],
          "y": [
           0,
           1
          ]
         },
         "hovertemplate": "labels=%{label}<br>count=%{value}<br>parent=%{parent}<br>id=%{id}<extra></extra>",
         "ids": [
          "Female/ Zimbabwe",
          "Male/ Zimbabwe",
          "Female",
          "Male"
         ],
         "labels": [
          " Zimbabwe",
          " Zimbabwe",
          "Female",
          "Male"
         ],
         "name": "",
         "parents": [
          "Female",
          "Male",
          "",
          ""
         ],
         "type": "treemap",
         "values": [
          1,
          1,
          1,
          1
         ]
        }
       ],
       "layout": {
        "legend": {
         "tracegroupgap": 0
        },
        "margin": {
         "t": 60
        },
        "template": {
         "data": {
          "bar": [
           {
            "error_x": {
             "color": "#2a3f5f"
            },
            "error_y": {
             "color": "#2a3f5f"
            },
            "marker": {
             "line": {
              "color": "#E5ECF6",
              "width": 0.5
             },
             "pattern": {
              "fillmode": "overlay",
              "size": 10,
              "solidity": 0.2
             }
            },
            "type": "bar"
           }
          ],
          "barpolar": [
           {
            "marker": {
             "line": {
              "color": "#E5ECF6",
              "width": 0.5
             },
             "pattern": {
              "fillmode": "overlay",
              "size": 10,
              "solidity": 0.2
             }
            },
            "type": "barpolar"
           }
          ],
          "carpet": [
           {
            "aaxis": {
             "endlinecolor": "#2a3f5f",
             "gridcolor": "white",
             "linecolor": "white",
             "minorgridcolor": "white",
             "startlinecolor": "#2a3f5f"
            },
            "baxis": {
             "endlinecolor": "#2a3f5f",
             "gridcolor": "white",
             "linecolor": "white",
             "minorgridcolor": "white",
             "startlinecolor": "#2a3f5f"
            },
            "type": "carpet"
           }
          ],
          "choropleth": [
           {
            "colorbar": {
             "outlinewidth": 0,
             "ticks": ""
            },
            "type": "choropleth"
           }
          ],
          "contour": [
           {
            "colorbar": {
             "outlinewidth": 0,
             "ticks": ""
            },
            "colorscale": [
             [
              0,
              "#0d0887"
             ],
             [
              0.1111111111111111,
              "#46039f"
             ],
             [
              0.2222222222222222,
              "#7201a8"
             ],
             [
              0.3333333333333333,
              "#9c179e"
             ],
             [
              0.4444444444444444,
              "#bd3786"
             ],
             [
              0.5555555555555556,
              "#d8576b"
             ],
             [
              0.6666666666666666,
              "#ed7953"
             ],
             [
              0.7777777777777778,
              "#fb9f3a"
             ],
             [
              0.8888888888888888,
              "#fdca26"
             ],
             [
              1,
              "#f0f921"
             ]
            ],
            "type": "contour"
           }
          ],
          "contourcarpet": [
           {
            "colorbar": {
             "outlinewidth": 0,
             "ticks": ""
            },
            "type": "contourcarpet"
           }
          ],
          "heatmap": [
           {
            "colorbar": {
             "outlinewidth": 0,
             "ticks": ""
            },
            "colorscale": [
             [
              0,
              "#0d0887"
             ],
             [
              0.1111111111111111,
              "#46039f"
             ],
             [
              0.2222222222222222,
              "#7201a8"
             ],
             [
              0.3333333333333333,
              "#9c179e"
             ],
             [
              0.4444444444444444,
              "#bd3786"
             ],
             [
              0.5555555555555556,
              "#d8576b"
             ],
             [
              0.6666666666666666,
              "#ed7953"
             ],
             [
              0.7777777777777778,
              "#fb9f3a"
             ],
             [
              0.8888888888888888,
              "#fdca26"
             ],
             [
              1,
              "#f0f921"
             ]
            ],
            "type": "heatmap"
           }
          ],
          "heatmapgl": [
           {
            "colorbar": {
             "outlinewidth": 0,
             "ticks": ""
            },
            "colorscale": [
             [
              0,
              "#0d0887"
             ],
             [
              0.1111111111111111,
              "#46039f"
             ],
             [
              0.2222222222222222,
              "#7201a8"
             ],
             [
              0.3333333333333333,
              "#9c179e"
             ],
             [
              0.4444444444444444,
              "#bd3786"
             ],
             [
              0.5555555555555556,
              "#d8576b"
             ],
             [
              0.6666666666666666,
              "#ed7953"
             ],
             [
              0.7777777777777778,
              "#fb9f3a"
             ],
             [
              0.8888888888888888,
              "#fdca26"
             ],
             [
              1,
              "#f0f921"
             ]
            ],
            "type": "heatmapgl"
           }
          ],
          "histogram": [
           {
            "marker": {
             "pattern": {
              "fillmode": "overlay",
              "size": 10,
              "solidity": 0.2
             }
            },
            "type": "histogram"
           }
          ],
          "histogram2d": [
           {
            "colorbar": {
             "outlinewidth": 0,
             "ticks": ""
            },
            "colorscale": [
             [
              0,
              "#0d0887"
             ],
             [
              0.1111111111111111,
              "#46039f"
             ],
             [
              0.2222222222222222,
              "#7201a8"
             ],
             [
              0.3333333333333333,
              "#9c179e"
             ],
             [
              0.4444444444444444,
              "#bd3786"
             ],
             [
              0.5555555555555556,
              "#d8576b"
             ],
             [
              0.6666666666666666,
              "#ed7953"
             ],
             [
              0.7777777777777778,
              "#fb9f3a"
             ],
             [
              0.8888888888888888,
              "#fdca26"
             ],
             [
              1,
              "#f0f921"
             ]
            ],
            "type": "histogram2d"
           }
          ],
          "histogram2dcontour": [
           {
            "colorbar": {
             "outlinewidth": 0,
             "ticks": ""
            },
            "colorscale": [
             [
              0,
              "#0d0887"
             ],
             [
              0.1111111111111111,
              "#46039f"
             ],
             [
              0.2222222222222222,
              "#7201a8"
             ],
             [
              0.3333333333333333,
              "#9c179e"
             ],
             [
              0.4444444444444444,
              "#bd3786"
             ],
             [
              0.5555555555555556,
              "#d8576b"
             ],
             [
              0.6666666666666666,
              "#ed7953"
             ],
             [
              0.7777777777777778,
              "#fb9f3a"
             ],
             [
              0.8888888888888888,
              "#fdca26"
             ],
             [
              1,
              "#f0f921"
             ]
            ],
            "type": "histogram2dcontour"
           }
          ],
          "mesh3d": [
           {
            "colorbar": {
             "outlinewidth": 0,
             "ticks": ""
            },
            "type": "mesh3d"
           }
          ],
          "parcoords": [
           {
            "line": {
             "colorbar": {
              "outlinewidth": 0,
              "ticks": ""
             }
            },
            "type": "parcoords"
           }
          ],
          "pie": [
           {
            "automargin": true,
            "type": "pie"
           }
          ],
          "scatter": [
           {
            "fillpattern": {
             "fillmode": "overlay",
             "size": 10,
             "solidity": 0.2
            },
            "type": "scatter"
           }
          ],
          "scatter3d": [
           {
            "line": {
             "colorbar": {
              "outlinewidth": 0,
              "ticks": ""
             }
            },
            "marker": {
             "colorbar": {
              "outlinewidth": 0,
              "ticks": ""
             }
            },
            "type": "scatter3d"
           }
          ],
          "scattercarpet": [
           {
            "marker": {
             "colorbar": {
              "outlinewidth": 0,
              "ticks": ""
             }
            },
            "type": "scattercarpet"
           }
          ],
          "scattergeo": [
           {
            "marker": {
             "colorbar": {
              "outlinewidth": 0,
              "ticks": ""
             }
            },
            "type": "scattergeo"
           }
          ],
          "scattergl": [
           {
            "marker": {
             "colorbar": {
              "outlinewidth": 0,
              "ticks": ""
             }
            },
            "type": "scattergl"
           }
          ],
          "scattermapbox": [
           {
            "marker": {
             "colorbar": {
              "outlinewidth": 0,
              "ticks": ""
             }
            },
            "type": "scattermapbox"
           }
          ],
          "scatterpolar": [
           {
            "marker": {
             "colorbar": {
              "outlinewidth": 0,
              "ticks": ""
             }
            },
            "type": "scatterpolar"
           }
          ],
          "scatterpolargl": [
           {
            "marker": {
             "colorbar": {
              "outlinewidth": 0,
              "ticks": ""
             }
            },
            "type": "scatterpolargl"
           }
          ],
          "scatterternary": [
           {
            "marker": {
             "colorbar": {
              "outlinewidth": 0,
              "ticks": ""
             }
            },
            "type": "scatterternary"
           }
          ],
          "surface": [
           {
            "colorbar": {
             "outlinewidth": 0,
             "ticks": ""
            },
            "colorscale": [
             [
              0,
              "#0d0887"
             ],
             [
              0.1111111111111111,
              "#46039f"
             ],
             [
              0.2222222222222222,
              "#7201a8"
             ],
             [
              0.3333333333333333,
              "#9c179e"
             ],
             [
              0.4444444444444444,
              "#bd3786"
             ],
             [
              0.5555555555555556,
              "#d8576b"
             ],
             [
              0.6666666666666666,
              "#ed7953"
             ],
             [
              0.7777777777777778,
              "#fb9f3a"
             ],
             [
              0.8888888888888888,
              "#fdca26"
             ],
             [
              1,
              "#f0f921"
             ]
            ],
            "type": "surface"
           }
          ],
          "table": [
           {
            "cells": {
             "fill": {
              "color": "#EBF0F8"
             },
             "line": {
              "color": "white"
             }
            },
            "header": {
             "fill": {
              "color": "#C8D4E3"
             },
             "line": {
              "color": "white"
             }
            },
            "type": "table"
           }
          ]
         },
         "layout": {
          "annotationdefaults": {
           "arrowcolor": "#2a3f5f",
           "arrowhead": 0,
           "arrowwidth": 1
          },
          "autotypenumbers": "strict",
          "coloraxis": {
           "colorbar": {
            "outlinewidth": 0,
            "ticks": ""
           }
          },
          "colorscale": {
           "diverging": [
            [
             0,
             "#8e0152"
            ],
            [
             0.1,
             "#c51b7d"
            ],
            [
             0.2,
             "#de77ae"
            ],
            [
             0.3,
             "#f1b6da"
            ],
            [
             0.4,
             "#fde0ef"
            ],
            [
             0.5,
             "#f7f7f7"
            ],
            [
             0.6,
             "#e6f5d0"
            ],
            [
             0.7,
             "#b8e186"
            ],
            [
             0.8,
             "#7fbc41"
            ],
            [
             0.9,
             "#4d9221"
            ],
            [
             1,
             "#276419"
            ]
           ],
           "sequential": [
            [
             0,
             "#0d0887"
            ],
            [
             0.1111111111111111,
             "#46039f"
            ],
            [
             0.2222222222222222,
             "#7201a8"
            ],
            [
             0.3333333333333333,
             "#9c179e"
            ],
            [
             0.4444444444444444,
             "#bd3786"
            ],
            [
             0.5555555555555556,
             "#d8576b"
            ],
            [
             0.6666666666666666,
             "#ed7953"
            ],
            [
             0.7777777777777778,
             "#fb9f3a"
            ],
            [
             0.8888888888888888,
             "#fdca26"
            ],
            [
             1,
             "#f0f921"
            ]
           ],
           "sequentialminus": [
            [
             0,
             "#0d0887"
            ],
            [
             0.1111111111111111,
             "#46039f"
            ],
            [
             0.2222222222222222,
             "#7201a8"
            ],
            [
             0.3333333333333333,
             "#9c179e"
            ],
            [
             0.4444444444444444,
             "#bd3786"
            ],
            [
             0.5555555555555556,
             "#d8576b"
            ],
            [
             0.6666666666666666,
             "#ed7953"
            ],
            [
             0.7777777777777778,
             "#fb9f3a"
            ],
            [
             0.8888888888888888,
             "#fdca26"
            ],
            [
             1,
             "#f0f921"
            ]
           ]
          },
          "colorway": [
           "#636efa",
           "#EF553B",
           "#00cc96",
           "#ab63fa",
           "#FFA15A",
           "#19d3f3",
           "#FF6692",
           "#B6E880",
           "#FF97FF",
           "#FECB52"
          ],
          "font": {
           "color": "#2a3f5f"
          },
          "geo": {
           "bgcolor": "white",
           "lakecolor": "white",
           "landcolor": "#E5ECF6",
           "showlakes": true,
           "showland": true,
           "subunitcolor": "white"
          },
          "hoverlabel": {
           "align": "left"
          },
          "hovermode": "closest",
          "mapbox": {
           "style": "light"
          },
          "paper_bgcolor": "white",
          "plot_bgcolor": "#E5ECF6",
          "polar": {
           "angularaxis": {
            "gridcolor": "white",
            "linecolor": "white",
            "ticks": ""
           },
           "bgcolor": "#E5ECF6",
           "radialaxis": {
            "gridcolor": "white",
            "linecolor": "white",
            "ticks": ""
           }
          },
          "scene": {
           "xaxis": {
            "backgroundcolor": "#E5ECF6",
            "gridcolor": "white",
            "gridwidth": 2,
            "linecolor": "white",
            "showbackground": true,
            "ticks": "",
            "zerolinecolor": "white"
           },
           "yaxis": {
            "backgroundcolor": "#E5ECF6",
            "gridcolor": "white",
            "gridwidth": 2,
            "linecolor": "white",
            "showbackground": true,
            "ticks": "",
            "zerolinecolor": "white"
           },
           "zaxis": {
            "backgroundcolor": "#E5ECF6",
            "gridcolor": "white",
            "gridwidth": 2,
            "linecolor": "white",
            "showbackground": true,
            "ticks": "",
            "zerolinecolor": "white"
           }
          },
          "shapedefaults": {
           "line": {
            "color": "#2a3f5f"
           }
          },
          "ternary": {
           "aaxis": {
            "gridcolor": "white",
            "linecolor": "white",
            "ticks": ""
           },
           "baxis": {
            "gridcolor": "white",
            "linecolor": "white",
            "ticks": ""
           },
           "bgcolor": "#E5ECF6",
           "caxis": {
            "gridcolor": "white",
            "linecolor": "white",
            "ticks": ""
           }
          },
          "title": {
           "x": 0.05
          },
          "xaxis": {
           "automargin": true,
           "gridcolor": "white",
           "linecolor": "white",
           "ticks": "",
           "title": {
            "standoff": 15
           },
           "zerolinecolor": "white",
           "zerolinewidth": 2
          },
          "yaxis": {
           "automargin": true,
           "gridcolor": "white",
           "linecolor": "white",
           "ticks": "",
           "title": {
            "standoff": 15
           },
           "zerolinecolor": "white",
           "zerolinewidth": 2
          }
         }
        }
       }
      }
     },
     "metadata": {},
     "output_type": "display_data"
    }
   ],
   "source": [
    "\n",
    "\n",
    "import plotly.express as px\n",
    "import pandas as pd\n",
    "import numpy as np\n",
    "import plotly.io as pio\n",
    "pio.renderers\n",
    "\n",
    "dataframeAtletas = pd.read_csv(\"Olympic_Athlete.csv\")\n",
    "juegosOlimpicos = pd.read_csv(\"Olympic_Athlete_Event_Results.csv\")\n",
    "\n",
    "\n",
    "\n",
    "#Funcion para convertir a entero o que devuelva NA (1 para entero  2 para float)\n",
    "def convertirNumero(valor , numero:int):\n",
    "    try:\n",
    "        if numero ==1:\n",
    "            numero = int(valor)\n",
    "        elif numero == 2:\n",
    "            numero = float(valor)      \n",
    "        return numero    \n",
    "    except ValueError:\n",
    "        return pd.NA\n",
    "\n",
    "#Confuncion para devolver NA\n",
    "\n",
    "def convertirNA(valor):\n",
    "    if valor == \"na\":\n",
    "        return pd.NA\n",
    "    else:\n",
    "        return valor\n",
    "              \n",
    "\n",
    "\n",
    "#establecer  elsegundo  parametro \n",
    "convertirFloat = partial(convertirNumero, numero=2)\n",
    "\n",
    "#mapeo utiliza la funcion convertirFloat\n",
    "columna = list( map ( convertirFloat, dataframeAtletas[\"height\"] ))\n",
    "#mapeo utiliza la funcion convertirFloat\n",
    "columnaWeight = list( map ( convertirFloat, dataframeAtletas[\"weight\"] ))\n",
    "#mapeo para devolver NA \n",
    "columnaMedalla = list(map(convertirNA, juegosOlimpicos[\"medal\"]))\n",
    "#reemplazo de nuevas columnas\n",
    "juegosOlimpicos[\"medal\"] = columnaMedalla\n",
    "dataframeAtletas[\"height\"] = columna    \n",
    "dataframeAtletas[\"weight\"] = columnaWeight     \n",
    "\n",
    "\n",
    "df_grouped = dataframeAtletas.groupby('sex')[['sex', 'country']].max()\n",
    "\n",
    "\n",
    "\n",
    "df_grouped['count'] = 1\n",
    "fig = px.treemap(df_grouped, path=['sex', 'country'], values='count')\n",
    "\n",
    "fig\n",
    "\n",
    "# "
   ]
  },
  {
   "cell_type": "code",
   "execution_count": 72,
   "metadata": {},
   "outputs": [
    {
     "data": {
      "image/png": "[encoded data removed]",
      "text/plain": [
       "<Figure size 640x480 with 1 Axes>"
      ]
     },
     "metadata": {},
     "output_type": "display_data"
    }
   ],
   "source": [
    "from sklearn import datasets, linear_model\n",
    "from sklearn.metrics import mean_squared_error, r2_score\n",
    "from sklearn.utils import Bunch\n",
    "\n",
    "\n",
    "\n",
    "dataframeAtletas =dataframeAtletas.dropna()\n",
    "\n",
    "#creacion datafram a objeto tipo bunch\n",
    "bunch = Bunch(data=dataframeAtletas.values, target=dataframeAtletas[\"height\"].values, feature_names=dataframeAtletas.columns)\n",
    "\n",
    "\n",
    "x = bunch.data[:,np.newaxis,5]  #creacion vector de vectores con newaxis (crea dimension)\n",
    "y = bunch.target\n",
    "\n",
    "model = linear_model.LinearRegression()\n",
    "\n",
    "model.fit(x,y) \n",
    "\n",
    "\n",
    "##    y = model.coef_       x  = model_intercept_   sera la regresión lineal  #\n",
    "model.coef_  #coeficiente de la x \n",
    "model.intercept_ #ordenada en el origen\n",
    "\n",
    "\n",
    "\n",
    "plt.scatter(x,y, color=\"red\")\n",
    "plt.plot(x, model.predict(x), color = \"blue\")\n",
    "plt.show()\n",
    "\n",
    "\n"
   ]
  },
  {
   "cell_type": "code",
   "execution_count": 30,
   "metadata": {},
   "outputs": [
    {
     "data": {
      "text/plain": [
       "[Text(0, 0.5, 'count')]"
      ]
     },
     "execution_count": 30,
     "metadata": {},
     "output_type": "execute_result"
    },
    {
     "data": {
      "image/png": "[encoded data removed]",
      "text/plain": [
       "<Figure size 640x480 with 1 Axes>"
      ]
     },
     "metadata": {},
     "output_type": "display_data"
    }
   ],
   "source": [
    "\n",
    "\n",
    "juegosOlimpicos[\"medal\"].nunique() #contador de categorias\n",
    "contador = juegosOlimpicos[\"medal\"].value_counts()#sumtaria de cada categoria\n",
    "contador = contador.reset_index()\n",
    "\n",
    "ax = sns.barplot(x= contador[\"medal\"], y = contador[\"count\"])\n",
    "ax.set_title('Conteo de Ratings de restaurantes')\n",
    "ax.set(ylabel='count')\n",
    "\n",
    "\n"
   ]
  },
  {
   "cell_type": "code",
   "execution_count": 31,
   "metadata": {},
   "outputs": [
    {
     "data": {
      "image/png": "[encoded data removed]",
      "text/plain": [
       "<Figure size 640x480 with 1 Axes>"
      ]
     },
     "metadata": {},
     "output_type": "display_data"
    }
   ],
   "source": [
    "porcentajeRelativa= contador[\"count\"] * 100 / contador[\"count\"].sum()\n",
    "\n",
    "\n",
    "ax = sns.barplot(x=contador[\"medal\"], y=porcentajeRelativa)\n",
    "ax.set_xticklabels(ax.get_xticklabels(), rotation=50);"
   ]
  },
  {
   "cell_type": "code",
   "execution_count": 32,
   "metadata": {},
   "outputs": [
    {
     "data": {
      "text/plain": [
       "<Axes: xlabel='height', ylabel='weight'>"
      ]
     },
     "execution_count": 32,
     "metadata": {},
     "output_type": "execute_result"
    },
    {
     "data": {
      "image/png": "[encoded data removed]",
      "text/plain": [
       "<Figure size 640x480 with 1 Axes>"
      ]
     },
     "metadata": {},
     "output_type": "display_data"
    }
   ],
   "source": [
    "tablaJuegosOlimpicos[\"contador\"] =1\n",
    "\n",
    "agrupado = tablaJuegosOlimpicos.groupby(\"sex\")[[\"height\",\"sport\",\"medal\",\"weight\",\"medal\"]].count()\n",
    "\n",
    "registroJO= tablaJuegosOlimpicos.dropna()\n",
    "\n",
    "registroJOMX = registroJO[registroJO[\"country_noc_x\"] == \"MEX\"]\n",
    "\n",
    "\n",
    "sns.scatterplot(x=registroJOMX['height'], y=registroJOMX['weight'], hue=registroJOMX[\"medal\"],  style=registroJOMX['sex'],marker='s')\n"
   ]
  },
  {
   "cell_type": "code",
   "execution_count": 33,
   "metadata": {},
   "outputs": [
    {
     "data": {
      "text/plain": [
       "<Axes: xlabel='height', ylabel='weight'>"
      ]
     },
     "execution_count": 33,
     "metadata": {},
     "output_type": "execute_result"
    },
    {
     "data": {
      "image/png": "[encoded data removed]",
      "text/plain": [
       "<Figure size 1000x800 with 1 Axes>"
      ]
     },
     "metadata": {},
     "output_type": "display_data"
    }
   ],
   "source": [
    "registroJO\n",
    "\n",
    "df_ball = registroJO[registroJO['medal'].isin(['Gold', 'Silver', 'Bronze'])]\n",
    "\n",
    "df_ball = df_ball[df_ball[\"country_noc_x\"]==\"CHI\"]\n",
    "\n",
    "fig = plt.figure(figsize=(10, 8))\n",
    "ax = fig.add_subplot()\n",
    "\n",
    "\n",
    "\n",
    "\n",
    "sns.scatterplot(x=df_ball['height'], y=df_ball['weight'], hue=df_ball['medal'], style=df_ball['medal'], ax=ax)\n",
    "\n",
    "\n"
   ]
  },
  {
   "cell_type": "code",
   "execution_count": 37,
   "metadata": {},
   "outputs": [
    {
     "data": {
      "image/png": "[encoded data removed]",
      "text/plain": [
       "<Figure size 640x480 with 4 Axes>"
      ]
     },
     "metadata": {},
     "output_type": "display_data"
    }
   ],
   "source": [
    "oro = registroJO[registroJO[\"medal\"] == 'Gold']\n",
    "plata = registroJO[registroJO['medal'] == 'Silver']\n",
    "bronce = registroJO[registroJO['medal'] == 'Bronze']\n",
    "\n",
    "sns.set_style('whitegrid')\n",
    "palette = [\"#223127\",\"#C0C0C0\",\"#CD7F32\",\"#dbbbf5\",\"#ffbf00\"]\n",
    "\n",
    "fig, axs = plt.subplots(2, 2)\n",
    "\n",
    "axs[0, 0].scatter(oro[\"height\"], oro[\"weight\"], c=palette[4], label='ORO')\n",
    "axs[0, 1].scatter(plata[\"height\"], plata[\"weight\"], c=palette[1], label='PLATA')\n",
    "axs[1, 0].scatter(bronce[\"height\"], bronce[\"weight\"], c=palette[2], label='BRONCE')\n",
    "\n",
    "\n",
    "\n",
    "\n",
    "\n",
    "# Personalizar las etiquetas y títulos\n",
    "axs[0, 0].set_xlabel('Eje X')\n",
    "axs[0, 0].set_ylabel('Eje Y')   \n",
    "axs[0, 0].set_title('Gráfico 1')\n",
    "\n",
    "axs[0, 1].set_xlabel('Eje X')\n",
    "axs[0, 1].set_ylabel('Eje Y')\n",
    "axs[0, 1].set_title('Gráfico 2')\n",
    "\n",
    "axs[1, 0].set_xlabel('Eje X')\n",
    "axs[1, 0].set_ylabel('Eje Y')\n",
    "axs[1, 0].set_title('Gráfico 3')\n",
    "\n",
    "axs[1, 1].set_xlabel('Eje X')\n",
    "axs[1, 1].set_ylabel('Eje Y')\n",
    "axs[1, 1].set_title('Gráfico 4')\n",
    "\n",
    "\n",
    "plt.tight_layout()\n",
    "plt.show()"
   ]
  },
  {
   "cell_type": "code",
   "execution_count": 112,
   "metadata": {},
   "outputs": [
    {
     "data": {
      "text/plain": [
       "(60, 3)"
      ]
     },
     "execution_count": 112,
     "metadata": {},
     "output_type": "execute_result"
    }
   ],
   "source": [
    "\n",
    "df_grouped = tablaJuegosOlimpicosF.groupby('sport')[['sex', 'sport','medal']].max()\n",
    "# \n",
    "\n",
    "\n",
    "df_ball = df_grouped[df_grouped['sport'].isin(['Basketball', 'Volleyball', 'Football', 'Baseball'])]\n",
    "\n",
    "\n",
    "df_grouped.sape"
   ]
  },
  {
   "cell_type": "markdown",
   "metadata": {},
   "source": []
  },
  {
   "cell_type": "markdown",
   "metadata": {},
   "source": []
  }
 ],
 "metadata": {
  "kernelspec": {
   "display_name": "Python 3",
   "language": "python",
   "name": "python3"
  },
  "language_info": {
   "codemirror_mode": {
    "name": "ipython",
    "version": 3
   },
   "file_extension": ".py",
   "mimetype": "text/x-python",
   "name": "python",
   "nbconvert_exporter": "python",
   "pygments_lexer": "ipython3",
   "version": "3.11.6"
  },
  "orig_nbformat": 4
 },
 "nbformat": 4,
 "nbformat_minor": 2
}
