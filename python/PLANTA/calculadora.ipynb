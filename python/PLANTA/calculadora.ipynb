import pandas as pd
# En el archivo mis_matematicas.py

def suma(a, b):
    return a + b

def resta(a, b):
    return a - b

def multiplicacion(a, b):
    return a * b

def division(a, b):
    if b == 0:
        return "No se puede dividir por cero."
    return a / b

def convertirNumero(valor):
    try:
        numero = float(valor)      
        return numero    
    except ValueError:
        return pd.NA


class Calculadora:
    def __init__(self):
        self.valor = 0

    def sumar(self, numero):
        self.valor += numero

    def restar(self, numero):
        self.valor -= numero

    def obtener_valor(self):
        return self.valor
    

