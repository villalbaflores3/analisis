{
 "cells": [
  {
   "cell_type": "code",
   "execution_count": 43,
   "metadata": {},
   "outputs": [
    {
     "name": "stdout",
     "output_type": "stream",
     "text": [
      "<class 'pandas.core.series.Series'>\n",
      "RangeIndex: 9990 entries, 0 to 9989\n",
      "Series name: Place\n",
      "Non-Null Count  Dtype \n",
      "--------------  ----- \n",
      "7992 non-null   object\n",
      "dtypes: object(1)\n",
      "memory usage: 78.2+ KB\n"
     ]
    },
    {
     "data": {
      "text/html": [
       "<div>\n",
       "<style scoped>\n",
       "    .dataframe tbody tr th:only-of-type {\n",
       "        vertical-align: middle;\n",
       "    }\n",
       "\n",
       "    .dataframe tbody tr th {\n",
       "        vertical-align: top;\n",
       "    }\n",
       "\n",
       "    .dataframe thead th {\n",
       "        text-align: right;\n",
       "    }\n",
       "</style>\n",
       "<table border=\"1\" class=\"dataframe\">\n",
       "  <thead>\n",
       "    <tr style=\"text-align: right;\">\n",
       "      <th></th>\n",
       "      <th>name</th>\n",
       "      <th>age</th>\n",
       "      <th>salary_usd</th>\n",
       "    </tr>\n",
       "  </thead>\n",
       "  <tbody>\n",
       "    <tr>\n",
       "      <th>0</th>\n",
       "      <td>John Random</td>\n",
       "      <td>24</td>\n",
       "      <td>4012</td>\n",
       "    </tr>\n",
       "    <tr>\n",
       "      <th>1</th>\n",
       "      <td>Jane Random</td>\n",
       "      <td>13</td>\n",
       "      <td>5010</td>\n",
       "    </tr>\n",
       "    <tr>\n",
       "      <th>2</th>\n",
       "      <td>Peter Random</td>\n",
       "      <td>53</td>\n",
       "      <td>6001</td>\n",
       "    </tr>\n",
       "    <tr>\n",
       "      <th>3</th>\n",
       "      <td>Paul Random</td>\n",
       "      <td>33</td>\n",
       "      <td>7100</td>\n",
       "    </tr>\n",
       "  </tbody>\n",
       "</table>\n",
       "</div>"
      ],
      "text/plain": [
       "           name  age  salary_usd\n",
       "0   John Random   24        4012\n",
       "1   Jane Random   13        5010\n",
       "2  Peter Random   53        6001\n",
       "3   Paul Random   33        7100"
      ]
     },
     "execution_count": 43,
     "metadata": {},
     "output_type": "execute_result"
    }
   ],
   "source": [
    "import pandas as pd\n",
    "import numpy as np\n",
    "\n",
    "\n",
    "df = pd.read_csv(\"Amazon_Reviews.csv\")\n",
    "\n",
    "#df.info()\n",
    "\n",
    "df[\"Place\"].info()\n",
    "df[\"Place\"].str.upper()\n",
    "\n",
    "#los diccionarios son entre llaves\n",
    "dict = {\n",
    "    'city': ['New York, USA', 'Paris, France', 'Berlin, Germxany', 'London, UK'],\n",
    "    'name': ['John Random', 'Jane Random', 'Peter Random', 'Paul Random'],\n",
    "    'age': [24, 13, 53, 33],\n",
    "    'salary_usd': [4012, 5010, 6001, 7100],\n",
    "    'domain'\n",
    ": ['random.com', 'random.fr', 'random.de', 'random.uk'],\n",
    "    'job': ['Data Scientist', 'Data Analyst', 'Data Engineer', 'Data Architect'],\n",
    "    'company': ['Random Inc.', 'Random Inc.', 'Random Inc.', 'Random Inc.']\n",
    "}\n",
    "\n",
    "\n",
    "\n",
    "df = pd.DataFrame(dict)\n",
    "\n",
    "\n",
    "df[\"MXN\"] = df['salary_usd'].map(lambda x : x *16.9)\n",
    "df['EUR']= df['salary_usd'].apply(lambda x : x *.123)\n",
    "\n",
    "#filtros\n",
    "df[df['age']  >18]\n",
    "\n",
    "\n",
    "#ordenacion\n",
    "df[['name','age','salary_usd']].sort_values(by=['salary_usd'], ascending=True)\n",
    "#           seleccion de columnas            #columna a ordenar \n",
    "\n"
   ]
  },
  {
   "cell_type": "code",
   "execution_count": 126,
   "metadata": {},
   "outputs": [
    {
     "data": {
      "text/plain": [
       "array([11, 13, 15, 17, 19, 21, 23, 25, 27])"
      ]
     },
     "execution_count": 126,
     "metadata": {},
     "output_type": "execute_result"
    }
   ],
   "source": [
    "lista = [1,2,3,4,5,6,7,8,9,10,11,12,13,14,15,16,17,18]\n",
    "\n",
    "array = np.array(lista)\n",
    "matriz= array.reshape(2,9)   #armar matrices de filas y columnas\n",
    "\n",
    "matriz.shape #mostrar la composicion de la matriz o lista\n",
    "\n",
    "matriz.size #mostrar el conteo de elementos\n",
    "\n",
    "matriz.dtype #mostrar el tipo de dato\n",
    "\n",
    "matriz.itemsize #tamaño de memoria ocupado \n",
    "\n",
    "\n",
    "matriz[0] #mostrar el numero de fila\n",
    "\n",
    "matriz[0,1] #mostrar el numero de fila y columna\n",
    "\n",
    "matriz[0,0:5] #mostrar el numero de fila y columna por rangos\n",
    "\n",
    "matriz[matriz >=10] #mostrar los valores con condición \n",
    "\n",
    "condicion = matriz % 5 <=0\n",
    "arreglofiltrado= matriz[condicion]\n",
    "\n",
    "ReferenciaArray = arreglofiltrado \n",
    "\n",
    "ReferenciaArray \n",
    "\n",
    "copia = ReferenciaArray.copy() # esto para hace copias de arrays \n",
    "\n",
    "copia is ReferenciaArray\n",
    "\n",
    "copia[2].max()\n",
    "np.sum(copia) \n",
    "np.nansum(copia) #omite los valores na\n",
    "np.argmin(copia) # devuelve la posicion del valor minomo\n",
    "np.argmax(copia) # devuelve la posicion del valor maximo\n",
    "\n",
    "np.any(True) # recibe booleanos para ver si algunos tiene true\n",
    "\n",
    "np.all(True) # recibe booleanos para ver si todos tiene true\n",
    "\n",
    "matriz.sum(axis=1)#sumar x fila\n",
    "matriz.sum(axis=0)#sumar x columna\n",
    "\n",
    "\n",
    "\n",
    "\n",
    "\n",
    "\n",
    "\n",
    "\n",
    "\n"
   ]
  },
  {
   "cell_type": "code",
   "execution_count": null,
   "metadata": {},
   "outputs": [],
   "source": [
    "\n"
   ]
  }
 ],
 "metadata": {
  "kernelspec": {
   "display_name": "Python 3",
   "language": "python",
   "name": "python3"
  },
  "language_info": {
   "codemirror_mode": {
    "name": "ipython",
    "version": 3
   },
   "file_extension": ".py",
   "mimetype": "text/x-python",
   "name": "python",
   "nbconvert_exporter": "python",
   "pygments_lexer": "ipython3",
   "version": "3.11.5"
  },
  "orig_nbformat": 4
 },
 "nbformat": 4,
 "nbformat_minor": 2
}
