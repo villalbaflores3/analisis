{
 "cells": [
  {
   "cell_type": "code",
   "execution_count": 39,
   "metadata": {},
   "outputs": [
    {
     "data": {
      "text/plain": [
       "True"
      ]
     },
     "execution_count": 39,
     "metadata": {},
     "output_type": "execute_result"
    }
   ],
   "source": [
    "import pandas as pd\n",
    "import numpy as np\n",
    "\n",
    "list = [1,1,1,1,12,12,13,14,15,16,17,18,19,55,1,2,3,4,5]\n",
    "\n",
    "\n",
    "list.count(1) #conteo de elementos de una lista\n",
    "\n",
    "diccionario = {\n",
    "    \"claves\":{20,23,13,50},\n",
    "    \"nombres\":{\"juan\",\"felipe\",\"gisela\",\"valeria\"}\n",
    "\n",
    "}\n",
    "\n",
    "22 in  diccionario[\"claves\"]  # preguntar si existe en el diccionario x clave\n",
    "\"claves\" in  diccionario  # preguntar si existe en el diccionario\n",
    "\n",
    "\n",
    "l = np.array(list, dtype='float32') # preguntar si existe\n",
    "\n",
    "np.sum(l) # solo en listas\n",
    "np.median(l) # solo en listas\n",
    "np.var(l) # solo en listas varianza\n",
    "np.argmax(list) # la posicion donde se encuentra el valor mas grande\n",
    "np.any(list) # alguno de los elementos tiene true\n",
    "np.all(list) # si todos de los elemenentos tiene true\n",
    "#np.sum(axis=1) # sum x filas\n",
    "#np.sum(axis=0) #sum por columnas\n",
    "\n"
   ]
  }
 ],
 "metadata": {
  "kernelspec": {
   "display_name": "Python 3",
   "language": "python",
   "name": "python3"
  },
  "language_info": {
   "codemirror_mode": {
    "name": "ipython",
    "version": 3
   },
   "file_extension": ".py",
   "mimetype": "text/x-python",
   "name": "python",
   "nbconvert_exporter": "python",
   "pygments_lexer": "ipython3",
   "version": "3.11.5"
  },
  "orig_nbformat": 4
 },
 "nbformat": 4,
 "nbformat_minor": 2
}
