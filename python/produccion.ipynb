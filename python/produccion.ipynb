{
 "cells": [
  {
   "cell_type": "code",
   "execution_count": 16,
   "metadata": {},
   "outputs": [],
   "source": [
    "import pandas as pd\n",
    "import numpy as np\n",
    "from functools import partial\n",
    "import seaborn as sns\n",
    "import matplotlib.pyplot as plt\n",
    "import pandas as pd\n",
    "\n",
    "\n",
    "\n",
    "produccion = pd.read_csv(\"PLANTA/PRODUCCION.csv\")\n",
    "desperdicio = pd.read_csv(\"PLANTA/DESPERDICIO.csv\")\n",
    "pedidos = pd.read_csv(\"PLANTA/PEDIDOS.csv\")\n",
    "empleados = pd.read_csv(\"PLANTA/EMPLEADOS.csv\")\n",
    "departamento = pd.read_csv(\"PLANTA/EMPLEADOS.csv\")\n",
    "\n"
   ]
  }
 ],
 "metadata": {
  "kernelspec": {
   "display_name": "Python 3",
   "language": "python",
   "name": "python3"
  },
  "language_info": {
   "codemirror_mode": {
    "name": "ipython",
    "version": 3
   },
   "file_extension": ".py",
   "mimetype": "text/x-python",
   "name": "python",
   "nbconvert_exporter": "python",
   "pygments_lexer": "ipython3",
   "version": "3.11.6"
  },
  "orig_nbformat": 4
 },
 "nbformat": 4,
 "nbformat_minor": 2
}
