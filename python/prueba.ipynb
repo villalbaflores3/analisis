{
 "cells": [
  {
   "cell_type": "code",
   "execution_count": null,
   "metadata": {},
   "outputs": [
    {
     "name": "stdout",
     "output_type": "stream",
     "text": [
      "[2, 35, 9, 11, 13, 17, 19, 23, 7]\n"
     ]
    },
    {
     "data": {
      "text/plain": [
       "24"
      ]
     },
     "execution_count": 68,
     "metadata": {},
     "output_type": "execute_result"
    }
   ],
   "source": [
    "#se puede acceder con numero negativos\n",
    "lista = [1,7,4,2,6,8,2,1,63,33,5,99]\n",
    "lista.append(64)#agrega elemento\n",
    "\n",
    "#print(sorted(lista, reverse= True))\n",
    "\n",
    "'''\n",
    "matriz = [\n",
    "    [1, 2, 3],\n",
    "    [4, 5, 6],\n",
    "    [7, 8, 9]\n",
    "]\n",
    "\n",
    "\n",
    "for fila in  matriz:\n",
    "    for elemento in fila:\n",
    "        print(elemento&\"=\"& elemento + elemento) \n",
    "\n",
    "'''\n",
    "#ejercicio 1\n",
    "listaNueva =[]\n",
    "listaAgregar = [2,35,7,9,11]\n",
    "listaSegunda = [13,17,19,23]\n",
    "\n",
    "for elemento in listaAgregar:\n",
    "    listaNueva.append(elemento)\n",
    "\n",
    "tercerElemento =  listaNueva.pop(2)\n",
    "listaConcatenado =listaNueva + listaSegunda\n",
    "listaConcatenado.append(tercerElemento)\n",
    "print( listaConcatenado)\n",
    "\n",
    "\n",
    "\n",
    "#diccionarios arrays\n",
    "\n",
    "'''\n",
    "nombres = [\"felipe\", \"juan\", \"Valeria\", \"Diana\"]\n",
    "edad= [25,29,22,24]\n",
    "dicc1 = { \n",
    "                    \n",
    "    \"persona_1\":{\n",
    "    \"nombre\": \"felipe\",\n",
    "    \"edad\": 29,\n",
    "    \"color\": \"morado\",\n",
    "    \"redes_sociales\":[\"Twitter\", \"Facebook\",\"Instagram\" ]\n",
    "    }\n",
    "        \n",
    "}\n",
    "\n",
    "'''\n",
    "\n",
    "nombres = [\"felipe\", \"juan\", \"Valeria\", \"Diana\"]\n",
    "edad= [25,29,22,24]\n",
    "persona_1 = { \n",
    "    \"nombre\": \"felipe\",\n",
    "    \"edad\": 29,\n",
    "    \"color\": \"morado\",\n",
    "    \"redes_sociales\":[{\"Twitter\":\"felix\"}, {\"Facebook\":\"ffelipe\"},{\"Instagram\":\"\"} ]\n",
    "        \n",
    "}\n",
    "\n",
    "\n",
    "\n",
    "persona_2 = { \n",
    "    \"nombre\": \"felipe\",\n",
    "    \"edad\": 29,\n",
    "    \"casado\":True,\n",
    "    \"IngresoMensual\": float (21332.21)\n",
    "        \n",
    "}\n",
    "\n",
    "\n",
    "personas = {\n",
    "    \n",
    "    \"persona_1\":persona_1,\n",
    "    \"persona_2\":persona_2\n",
    "} \n",
    "\n",
    "personas\n",
    "\n",
    "\n",
    "\n",
    "#agregar al elemento en diccionario\n",
    "#diccionarioArray[\"Pais\"] = \"Mexico\"\n",
    "\n",
    "#Editar al elemento en diccionario\n",
    "#diccionarioArray[\"edad\"] = 30\n",
    "\n",
    "#Eliminar al elemento en diccionario\n",
    "#diccionarioArray.pop(\"Pais\")\n",
    "\n",
    "\n",
    "lista0 = [4,5,7,1,6,4]\n",
    "lista1 = [11,13,24,35,66,19]\n",
    "\n",
    "\n",
    "\n",
    "def sumar(lista : list):\n",
    "    \n",
    "    \n",
    "        return   lista[0]+lista[1] \n",
    "\n",
    "\n",
    "\n",
    "sumar(lista1)\n",
    "\n",
    "\n",
    "\n",
    "\n",
    "\n",
    "\n",
    "\n",
    "\n",
    "\n",
    "\n"
   ]
  },
  {
   "attachments": {},
   "cell_type": "markdown",
   "metadata": {},
   "source": [
    "LIMPIEZA DE DATOS  EN CSV   "
   ]
  },
  {
   "cell_type": "code",
   "execution_count": null,
   "metadata": {},
   "outputs": [],
   "source": [
    "print(\"The\")\n"
   ]
  },
  {
   "attachments": {},
   "cell_type": "markdown",
   "metadata": {},
   "source": [
    "pruebas"
   ]
  }
 ],
 "metadata": {
  "kernelspec": {
   "display_name": "Python 3",
   "language": "python",
   "name": "python3"
  },
  "language_info": {
   "codemirror_mode": {
    "name": "ipython",
    "version": 3
   },
   "file_extension": ".py",
   "mimetype": "text/x-python",
   "name": "python",
   "nbconvert_exporter": "python",
   "pygments_lexer": "ipython3",
   "version": "3.11.5"
  },
  "orig_nbformat": 4
 },
 "nbformat": 4,
 "nbformat_minor": 2
}
